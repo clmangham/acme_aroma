{
 "cells": [
  {
   "cell_type": "code",
   "execution_count": 35,
   "metadata": {},
   "outputs": [],
   "source": [
    "import numpy as np\n",
    "import pandas as pd\n",
    "from imblearn.over_sampling import SMOTE\n",
    "from sklearn.preprocessing import StandardScaler\n",
    "from sklearn.preprocessing import LabelEncoder\n",
    "from sklearn.model_selection import train_test_split\n"
   ]
  },
  {
   "cell_type": "code",
   "execution_count": 2,
   "metadata": {},
   "outputs": [],
   "source": [
    "#Read in the data files\n",
    "data = pd.read_csv(\"../data/general_data.csv\",sep=\",\")"
   ]
  },
  {
   "cell_type": "code",
   "execution_count": 5,
   "metadata": {},
   "outputs": [
    {
     "data": {
      "text/plain": [
       "(4410, 29)"
      ]
     },
     "execution_count": 5,
     "metadata": {},
     "output_type": "execute_result"
    }
   ],
   "source": [
    "data.shape"
   ]
  },
  {
   "cell_type": "code",
   "execution_count": 25,
   "metadata": {},
   "outputs": [
    {
     "data": {
      "text/plain": [
       "(4329, 29)"
      ]
     },
     "execution_count": 25,
     "metadata": {},
     "output_type": "execute_result"
    }
   ],
   "source": [
    "data = data.dropna()\n",
    "data.shape"
   ]
  },
  {
   "cell_type": "code",
   "execution_count": 28,
   "metadata": {},
   "outputs": [],
   "source": [
    "# Attrition is dependent var\n",
    "label_encoder_y=LabelEncoder()\n",
    "data['Attrition']=label_encoder_y.fit_transform(data['Attrition'])"
   ]
  },
  {
   "cell_type": "code",
   "execution_count": 29,
   "metadata": {},
   "outputs": [],
   "source": [
    "#Bin the age variable into buckets for easier EDA\n",
    "data['Age_Bin']=pd.cut(x = data['Age'],\n",
    "                        bins = [0,30,40,50,60],\n",
    "                        labels = [0, 1, 2,3])"
   ]
  },
  {
   "cell_type": "code",
   "execution_count": 44,
   "metadata": {},
   "outputs": [],
   "source": [
    "#Drop unnecessary columns\n",
    "data.drop(['EmployeeCount','EmployeeID','StandardHours','Over18'],axis=1,inplace=True)"
   ]
  },
  {
   "cell_type": "code",
   "execution_count": 45,
   "metadata": {},
   "outputs": [],
   "source": [
    "#Convert the Categorical Variables to dummy variables. We use the drop_first=True option to eliminate the first\n",
    "df = pd.get_dummies(data, columns=['Gender', 'JobRole', 'BusinessTravel','Education','EducationField','JobLevel','MaritalStatus','Department','StockOptionLevel'],drop_first=True)"
   ]
  },
  {
   "cell_type": "code",
   "execution_count": 46,
   "metadata": {},
   "outputs": [],
   "source": [
    "# Save cleaned df for later\n",
    "df.to_csv(r'../data/df.csv')\n"
   ]
  },
  {
   "cell_type": "code",
   "execution_count": 47,
   "metadata": {},
   "outputs": [],
   "source": [
    "X = df.drop(columns='Attrition')\n",
    "y = df['Attrition']\n",
    "\n",
    "# Split data\n",
    "X_train, X_test, y_train, y_test = train_test_split(X, y, test_size=0.33, random_state=42)"
   ]
  },
  {
   "cell_type": "code",
   "execution_count": 50,
   "metadata": {},
   "outputs": [
    {
     "name": "stdout",
     "output_type": "stream",
     "text": [
      "Shape of X before SMOTE: (2900, 47)\n",
      "Shape of X after SMOTE: (4850, 47)\n",
      "Balance of y variable: 0.5\n"
     ]
    }
   ],
   "source": [
    "#set the SMOTE up\n",
    "sm = SMOTE(random_state=42)\n",
    "X_sm, y_sm = sm.fit_resample(X_train, y_train)\n",
    "\n",
    "#Notice that the shape of X before and after rebalancing.\n",
    "#The data frame has grown to include more cases of where employee attrition = 1.\n",
    "print(f'''Shape of X before SMOTE: {X_train.shape}\n",
    "Shape of X after SMOTE: {X_sm.shape}''')\n",
    "\n",
    "#Check that response variable is now balanced (i.e. 50% of the cases are when attrition = 1)\n",
    "print(f'''Balance of y variable: {y_sm.mean()}''')"
   ]
  },
  {
   "cell_type": "code",
   "execution_count": 54,
   "metadata": {},
   "outputs": [
    {
     "name": "stdout",
     "output_type": "stream",
     "text": [
      "train shape: (4850, 48)\n",
      "test shape: (1429, 48)\n"
     ]
    }
   ],
   "source": [
    "#Remerge the data\n",
    "tr_sm = pd.concat([y_sm, X_sm], axis=1)\n",
    "test = pd.concat([y_test, X_test], axis=1)\n",
    "\n",
    "print(f'''train shape: {tr_sm.shape}\n",
    "test shape: {test.shape}''')"
   ]
  },
  {
   "cell_type": "code",
   "execution_count": 56,
   "metadata": {},
   "outputs": [],
   "source": [
    "tr_sm.to_csv(r'../data/train.csv')\n",
    "test.to_csv(r'../data/test.csv')"
   ]
  },
  {
   "cell_type": "code",
   "execution_count": null,
   "metadata": {},
   "outputs": [],
   "source": []
  }
 ],
 "metadata": {
  "kernelspec": {
   "display_name": "acme",
   "language": "python",
   "name": "python3"
  },
  "language_info": {
   "codemirror_mode": {
    "name": "ipython",
    "version": 3
   },
   "file_extension": ".py",
   "mimetype": "text/x-python",
   "name": "python",
   "nbconvert_exporter": "python",
   "pygments_lexer": "ipython3",
   "version": "3.11.4"
  },
  "orig_nbformat": 4
 },
 "nbformat": 4,
 "nbformat_minor": 2
}
