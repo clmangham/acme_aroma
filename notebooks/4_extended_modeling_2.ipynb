{
 "cells": [
  {
   "cell_type": "code",
   "execution_count": 97,
   "metadata": {},
   "outputs": [],
   "source": [
    "#Import Libraries\n",
    "import numpy as np\n",
    "import pandas as pd\n",
    "from scipy import stats\n",
    "import statsmodels.api as sm\n",
    "from sklearn.preprocessing import StandardScaler\n",
    "from sklearn.linear_model import LogisticRegression\n",
    "from sklearn.model_selection import cross_val_score\n",
    "from sklearn.metrics import confusion_matrix, accuracy_score, classification_report, roc_auc_score, roc_curve, ConfusionMatrixDisplay\n",
    "import matplotlib.pyplot as plt\n",
    "%matplotlib inline\n",
    "\n",
    "import seaborn as sns"
   ]
  },
  {
   "cell_type": "code",
   "execution_count": 21,
   "metadata": {},
   "outputs": [],
   "source": [
    "train = pd.read_csv(\"../data/train.csv\",sep=\",\")\n",
    "test = pd.read_csv(\"../data/test.csv\",sep=\",\")"
   ]
  },
  {
   "cell_type": "code",
   "execution_count": 22,
   "metadata": {},
   "outputs": [],
   "source": [
    "#Drop an extraneous column and determine the shape of the train data frame.\n",
    "train=train.drop(['Unnamed: 0'], axis=1)\n",
    "test=test.drop(['Unnamed: 0'], axis=1)\n"
   ]
  },
  {
   "cell_type": "code",
   "execution_count": 23,
   "metadata": {},
   "outputs": [
    {
     "data": {
      "text/html": [
       "<div>\n",
       "<style scoped>\n",
       "    .dataframe tbody tr th:only-of-type {\n",
       "        vertical-align: middle;\n",
       "    }\n",
       "\n",
       "    .dataframe tbody tr th {\n",
       "        vertical-align: top;\n",
       "    }\n",
       "\n",
       "    .dataframe thead th {\n",
       "        text-align: right;\n",
       "    }\n",
       "</style>\n",
       "<table border=\"1\" class=\"dataframe\">\n",
       "  <thead>\n",
       "    <tr style=\"text-align: right;\">\n",
       "      <th></th>\n",
       "      <th>Attrition</th>\n",
       "      <th>Age</th>\n",
       "      <th>DistanceFromHome</th>\n",
       "      <th>MonthlyIncome</th>\n",
       "      <th>NumCompaniesWorked</th>\n",
       "      <th>PercentSalaryHike</th>\n",
       "      <th>TotalWorkingYears</th>\n",
       "      <th>TrainingTimesLastYear</th>\n",
       "      <th>YearsAtCompany</th>\n",
       "      <th>YearsSinceLastPromotion</th>\n",
       "      <th>YearsWithCurrManager</th>\n",
       "      <th>PerformanceRating</th>\n",
       "      <th>JobInvolvement</th>\n",
       "      <th>EnvironmentSatisfaction</th>\n",
       "      <th>JobSatisfaction</th>\n",
       "      <th>WorkLifeBalance</th>\n",
       "      <th>Age_Bin</th>\n",
       "      <th>Gender_Male</th>\n",
       "      <th>JobRole_Human_Resources</th>\n",
       "      <th>JobRole_Laboratory_Technician</th>\n",
       "      <th>JobRole_Manager</th>\n",
       "      <th>JobRole_Manufacturing_Director</th>\n",
       "      <th>JobRole_Research_Director</th>\n",
       "      <th>JobRole_Research_Scientist</th>\n",
       "      <th>JobRole_Sales_Executive</th>\n",
       "      <th>JobRole_Sales_Representative</th>\n",
       "      <th>BusinessTravel_Travel_Frequently</th>\n",
       "      <th>BusinessTravel_Travel_Rarely</th>\n",
       "      <th>Education_2</th>\n",
       "      <th>Education_3</th>\n",
       "      <th>Education_4</th>\n",
       "      <th>Education_5</th>\n",
       "      <th>EducationField_Life_Sciences</th>\n",
       "      <th>EducationField_Marketing</th>\n",
       "      <th>EducationField_Medical</th>\n",
       "      <th>EducationField_Other</th>\n",
       "      <th>EducationField_Technical_Degree</th>\n",
       "      <th>JobLevel_2</th>\n",
       "      <th>JobLevel_3</th>\n",
       "      <th>JobLevel_4</th>\n",
       "      <th>JobLevel_5</th>\n",
       "      <th>MaritalStatus_Married</th>\n",
       "      <th>MaritalStatus_Single</th>\n",
       "      <th>Department_Research_Development</th>\n",
       "      <th>Department_Sales</th>\n",
       "      <th>StockOptionLevel_1</th>\n",
       "      <th>StockOptionLevel_2</th>\n",
       "      <th>StockOptionLevel_3</th>\n",
       "    </tr>\n",
       "  </thead>\n",
       "  <tbody>\n",
       "    <tr>\n",
       "      <th>0</th>\n",
       "      <td>0</td>\n",
       "      <td>22</td>\n",
       "      <td>6</td>\n",
       "      <td>108510</td>\n",
       "      <td>1.0</td>\n",
       "      <td>16</td>\n",
       "      <td>1.0</td>\n",
       "      <td>2</td>\n",
       "      <td>1</td>\n",
       "      <td>0</td>\n",
       "      <td>0</td>\n",
       "      <td>3</td>\n",
       "      <td>3</td>\n",
       "      <td>1.0</td>\n",
       "      <td>3.0</td>\n",
       "      <td>3.0</td>\n",
       "      <td>0.0</td>\n",
       "      <td>False</td>\n",
       "      <td>False</td>\n",
       "      <td>False</td>\n",
       "      <td>False</td>\n",
       "      <td>False</td>\n",
       "      <td>False</td>\n",
       "      <td>False</td>\n",
       "      <td>True</td>\n",
       "      <td>False</td>\n",
       "      <td>False</td>\n",
       "      <td>False</td>\n",
       "      <td>False</td>\n",
       "      <td>True</td>\n",
       "      <td>False</td>\n",
       "      <td>False</td>\n",
       "      <td>True</td>\n",
       "      <td>False</td>\n",
       "      <td>False</td>\n",
       "      <td>False</td>\n",
       "      <td>False</td>\n",
       "      <td>False</td>\n",
       "      <td>True</td>\n",
       "      <td>False</td>\n",
       "      <td>False</td>\n",
       "      <td>False</td>\n",
       "      <td>False</td>\n",
       "      <td>True</td>\n",
       "      <td>False</td>\n",
       "      <td>True</td>\n",
       "      <td>False</td>\n",
       "      <td>False</td>\n",
       "    </tr>\n",
       "    <tr>\n",
       "      <th>1</th>\n",
       "      <td>0</td>\n",
       "      <td>33</td>\n",
       "      <td>2</td>\n",
       "      <td>87930</td>\n",
       "      <td>6.0</td>\n",
       "      <td>17</td>\n",
       "      <td>8.0</td>\n",
       "      <td>2</td>\n",
       "      <td>5</td>\n",
       "      <td>1</td>\n",
       "      <td>2</td>\n",
       "      <td>3</td>\n",
       "      <td>2</td>\n",
       "      <td>3.0</td>\n",
       "      <td>3.0</td>\n",
       "      <td>3.0</td>\n",
       "      <td>1.0</td>\n",
       "      <td>False</td>\n",
       "      <td>False</td>\n",
       "      <td>False</td>\n",
       "      <td>False</td>\n",
       "      <td>False</td>\n",
       "      <td>False</td>\n",
       "      <td>False</td>\n",
       "      <td>True</td>\n",
       "      <td>False</td>\n",
       "      <td>True</td>\n",
       "      <td>False</td>\n",
       "      <td>False</td>\n",
       "      <td>True</td>\n",
       "      <td>False</td>\n",
       "      <td>False</td>\n",
       "      <td>False</td>\n",
       "      <td>False</td>\n",
       "      <td>True</td>\n",
       "      <td>False</td>\n",
       "      <td>False</td>\n",
       "      <td>False</td>\n",
       "      <td>False</td>\n",
       "      <td>False</td>\n",
       "      <td>False</td>\n",
       "      <td>True</td>\n",
       "      <td>False</td>\n",
       "      <td>True</td>\n",
       "      <td>False</td>\n",
       "      <td>False</td>\n",
       "      <td>False</td>\n",
       "      <td>False</td>\n",
       "    </tr>\n",
       "    <tr>\n",
       "      <th>2</th>\n",
       "      <td>0</td>\n",
       "      <td>42</td>\n",
       "      <td>2</td>\n",
       "      <td>45390</td>\n",
       "      <td>4.0</td>\n",
       "      <td>17</td>\n",
       "      <td>8.0</td>\n",
       "      <td>5</td>\n",
       "      <td>0</td>\n",
       "      <td>0</td>\n",
       "      <td>0</td>\n",
       "      <td>3</td>\n",
       "      <td>4</td>\n",
       "      <td>3.0</td>\n",
       "      <td>4.0</td>\n",
       "      <td>4.0</td>\n",
       "      <td>2.0</td>\n",
       "      <td>False</td>\n",
       "      <td>False</td>\n",
       "      <td>False</td>\n",
       "      <td>False</td>\n",
       "      <td>False</td>\n",
       "      <td>True</td>\n",
       "      <td>False</td>\n",
       "      <td>False</td>\n",
       "      <td>False</td>\n",
       "      <td>False</td>\n",
       "      <td>True</td>\n",
       "      <td>False</td>\n",
       "      <td>False</td>\n",
       "      <td>True</td>\n",
       "      <td>False</td>\n",
       "      <td>False</td>\n",
       "      <td>False</td>\n",
       "      <td>True</td>\n",
       "      <td>False</td>\n",
       "      <td>False</td>\n",
       "      <td>True</td>\n",
       "      <td>False</td>\n",
       "      <td>False</td>\n",
       "      <td>False</td>\n",
       "      <td>False</td>\n",
       "      <td>True</td>\n",
       "      <td>False</td>\n",
       "      <td>True</td>\n",
       "      <td>True</td>\n",
       "      <td>False</td>\n",
       "      <td>False</td>\n",
       "    </tr>\n",
       "    <tr>\n",
       "      <th>3</th>\n",
       "      <td>1</td>\n",
       "      <td>26</td>\n",
       "      <td>1</td>\n",
       "      <td>24260</td>\n",
       "      <td>1.0</td>\n",
       "      <td>13</td>\n",
       "      <td>1.0</td>\n",
       "      <td>3</td>\n",
       "      <td>1</td>\n",
       "      <td>0</td>\n",
       "      <td>0</td>\n",
       "      <td>4</td>\n",
       "      <td>3</td>\n",
       "      <td>2.0</td>\n",
       "      <td>3.0</td>\n",
       "      <td>1.0</td>\n",
       "      <td>0.0</td>\n",
       "      <td>False</td>\n",
       "      <td>False</td>\n",
       "      <td>False</td>\n",
       "      <td>False</td>\n",
       "      <td>True</td>\n",
       "      <td>False</td>\n",
       "      <td>False</td>\n",
       "      <td>False</td>\n",
       "      <td>False</td>\n",
       "      <td>False</td>\n",
       "      <td>True</td>\n",
       "      <td>False</td>\n",
       "      <td>True</td>\n",
       "      <td>False</td>\n",
       "      <td>False</td>\n",
       "      <td>False</td>\n",
       "      <td>True</td>\n",
       "      <td>False</td>\n",
       "      <td>False</td>\n",
       "      <td>False</td>\n",
       "      <td>True</td>\n",
       "      <td>False</td>\n",
       "      <td>False</td>\n",
       "      <td>False</td>\n",
       "      <td>False</td>\n",
       "      <td>True</td>\n",
       "      <td>False</td>\n",
       "      <td>True</td>\n",
       "      <td>False</td>\n",
       "      <td>False</td>\n",
       "      <td>False</td>\n",
       "    </tr>\n",
       "    <tr>\n",
       "      <th>4</th>\n",
       "      <td>0</td>\n",
       "      <td>40</td>\n",
       "      <td>2</td>\n",
       "      <td>27180</td>\n",
       "      <td>1.0</td>\n",
       "      <td>14</td>\n",
       "      <td>9.0</td>\n",
       "      <td>4</td>\n",
       "      <td>9</td>\n",
       "      <td>4</td>\n",
       "      <td>7</td>\n",
       "      <td>3</td>\n",
       "      <td>3</td>\n",
       "      <td>4.0</td>\n",
       "      <td>4.0</td>\n",
       "      <td>4.0</td>\n",
       "      <td>1.0</td>\n",
       "      <td>True</td>\n",
       "      <td>False</td>\n",
       "      <td>False</td>\n",
       "      <td>False</td>\n",
       "      <td>True</td>\n",
       "      <td>False</td>\n",
       "      <td>False</td>\n",
       "      <td>False</td>\n",
       "      <td>False</td>\n",
       "      <td>False</td>\n",
       "      <td>True</td>\n",
       "      <td>False</td>\n",
       "      <td>True</td>\n",
       "      <td>False</td>\n",
       "      <td>False</td>\n",
       "      <td>True</td>\n",
       "      <td>False</td>\n",
       "      <td>False</td>\n",
       "      <td>False</td>\n",
       "      <td>False</td>\n",
       "      <td>False</td>\n",
       "      <td>False</td>\n",
       "      <td>False</td>\n",
       "      <td>False</td>\n",
       "      <td>False</td>\n",
       "      <td>False</td>\n",
       "      <td>True</td>\n",
       "      <td>False</td>\n",
       "      <td>True</td>\n",
       "      <td>False</td>\n",
       "      <td>False</td>\n",
       "    </tr>\n",
       "  </tbody>\n",
       "</table>\n",
       "</div>"
      ],
      "text/plain": [
       "   Attrition  Age  DistanceFromHome  MonthlyIncome  NumCompaniesWorked  \\\n",
       "0          0   22                 6         108510                 1.0   \n",
       "1          0   33                 2          87930                 6.0   \n",
       "2          0   42                 2          45390                 4.0   \n",
       "3          1   26                 1          24260                 1.0   \n",
       "4          0   40                 2          27180                 1.0   \n",
       "\n",
       "   PercentSalaryHike  TotalWorkingYears  TrainingTimesLastYear  \\\n",
       "0                 16                1.0                      2   \n",
       "1                 17                8.0                      2   \n",
       "2                 17                8.0                      5   \n",
       "3                 13                1.0                      3   \n",
       "4                 14                9.0                      4   \n",
       "\n",
       "   YearsAtCompany  YearsSinceLastPromotion  YearsWithCurrManager  \\\n",
       "0               1                        0                     0   \n",
       "1               5                        1                     2   \n",
       "2               0                        0                     0   \n",
       "3               1                        0                     0   \n",
       "4               9                        4                     7   \n",
       "\n",
       "   PerformanceRating  JobInvolvement  EnvironmentSatisfaction  \\\n",
       "0                  3               3                      1.0   \n",
       "1                  3               2                      3.0   \n",
       "2                  3               4                      3.0   \n",
       "3                  4               3                      2.0   \n",
       "4                  3               3                      4.0   \n",
       "\n",
       "   JobSatisfaction  WorkLifeBalance  Age_Bin  Gender_Male  \\\n",
       "0              3.0              3.0      0.0        False   \n",
       "1              3.0              3.0      1.0        False   \n",
       "2              4.0              4.0      2.0        False   \n",
       "3              3.0              1.0      0.0        False   \n",
       "4              4.0              4.0      1.0         True   \n",
       "\n",
       "   JobRole_Human_Resources  JobRole_Laboratory_Technician  JobRole_Manager  \\\n",
       "0                    False                          False            False   \n",
       "1                    False                          False            False   \n",
       "2                    False                          False            False   \n",
       "3                    False                          False            False   \n",
       "4                    False                          False            False   \n",
       "\n",
       "   JobRole_Manufacturing_Director  JobRole_Research_Director  \\\n",
       "0                           False                      False   \n",
       "1                           False                      False   \n",
       "2                           False                       True   \n",
       "3                            True                      False   \n",
       "4                            True                      False   \n",
       "\n",
       "   JobRole_Research_Scientist  JobRole_Sales_Executive  \\\n",
       "0                       False                     True   \n",
       "1                       False                     True   \n",
       "2                       False                    False   \n",
       "3                       False                    False   \n",
       "4                       False                    False   \n",
       "\n",
       "   JobRole_Sales_Representative  BusinessTravel_Travel_Frequently  \\\n",
       "0                         False                             False   \n",
       "1                         False                              True   \n",
       "2                         False                             False   \n",
       "3                         False                             False   \n",
       "4                         False                             False   \n",
       "\n",
       "   BusinessTravel_Travel_Rarely  Education_2  Education_3  Education_4  \\\n",
       "0                         False        False         True        False   \n",
       "1                         False        False         True        False   \n",
       "2                          True        False        False         True   \n",
       "3                          True        False         True        False   \n",
       "4                          True        False         True        False   \n",
       "\n",
       "   Education_5  EducationField_Life_Sciences  EducationField_Marketing  \\\n",
       "0        False                          True                     False   \n",
       "1        False                         False                     False   \n",
       "2        False                         False                     False   \n",
       "3        False                         False                      True   \n",
       "4        False                          True                     False   \n",
       "\n",
       "   EducationField_Medical  EducationField_Other  \\\n",
       "0                   False                 False   \n",
       "1                    True                 False   \n",
       "2                    True                 False   \n",
       "3                   False                 False   \n",
       "4                   False                 False   \n",
       "\n",
       "   EducationField_Technical_Degree  JobLevel_2  JobLevel_3  JobLevel_4  \\\n",
       "0                            False       False        True       False   \n",
       "1                            False       False       False       False   \n",
       "2                            False        True       False       False   \n",
       "3                            False        True       False       False   \n",
       "4                            False       False       False       False   \n",
       "\n",
       "   JobLevel_5  MaritalStatus_Married  MaritalStatus_Single  \\\n",
       "0       False                  False                 False   \n",
       "1       False                   True                 False   \n",
       "2       False                  False                  True   \n",
       "3       False                  False                  True   \n",
       "4       False                  False                 False   \n",
       "\n",
       "   Department_Research_Development  Department_Sales  StockOptionLevel_1  \\\n",
       "0                             True             False                True   \n",
       "1                             True             False               False   \n",
       "2                            False              True                True   \n",
       "3                            False              True               False   \n",
       "4                             True             False                True   \n",
       "\n",
       "   StockOptionLevel_2  StockOptionLevel_3  \n",
       "0               False               False  \n",
       "1               False               False  \n",
       "2               False               False  \n",
       "3               False               False  \n",
       "4               False               False  "
      ]
     },
     "execution_count": 23,
     "metadata": {},
     "output_type": "execute_result"
    }
   ],
   "source": [
    "pd.set_option(\"display.max_columns\", None)\n",
    "train.head()"
   ]
  },
  {
   "cell_type": "markdown",
   "metadata": {},
   "source": [
    "## Correlation-Based Feature Selection"
   ]
  },
  {
   "attachments": {
    "image-2.png": {
     "image/png": "[encoded data removed]"
    }
   },
   "cell_type": "markdown",
   "metadata": {},
   "source": [
    "![image-2.png](attachment:image-2.png)"
   ]
  },
  {
   "cell_type": "code",
   "execution_count": 24,
   "metadata": {},
   "outputs": [],
   "source": [
    "features = ['WorkLifeBalance', 'PercentSalaryHike', 'JobSatisfaction', 'EnvironmentSatisfaction', 'TotalWorkingYears', 'Age', 'YearsWithCurrManager',\n",
    "    'YearsAtCompany', 'TrainingTimesLastYear', 'YearsSinceLastPromotion', 'MonthlyIncome', 'DistanceFromHome']"
   ]
  },
  {
   "cell_type": "code",
   "execution_count": 25,
   "metadata": {},
   "outputs": [
    {
     "data": {
      "text/html": [
       "<div>\n",
       "<style scoped>\n",
       "    .dataframe tbody tr th:only-of-type {\n",
       "        vertical-align: middle;\n",
       "    }\n",
       "\n",
       "    .dataframe tbody tr th {\n",
       "        vertical-align: top;\n",
       "    }\n",
       "\n",
       "    .dataframe thead th {\n",
       "        text-align: right;\n",
       "    }\n",
       "</style>\n",
       "<table border=\"1\" class=\"dataframe\">\n",
       "  <thead>\n",
       "    <tr style=\"text-align: right;\">\n",
       "      <th></th>\n",
       "      <th>WorkLifeBalance</th>\n",
       "      <th>PercentSalaryHike</th>\n",
       "      <th>JobSatisfaction</th>\n",
       "      <th>EnvironmentSatisfaction</th>\n",
       "      <th>TotalWorkingYears</th>\n",
       "      <th>Age</th>\n",
       "      <th>YearsWithCurrManager</th>\n",
       "      <th>YearsAtCompany</th>\n",
       "      <th>TrainingTimesLastYear</th>\n",
       "      <th>YearsSinceLastPromotion</th>\n",
       "      <th>MonthlyIncome</th>\n",
       "      <th>DistanceFromHome</th>\n",
       "    </tr>\n",
       "  </thead>\n",
       "  <tbody>\n",
       "    <tr>\n",
       "      <th>0</th>\n",
       "      <td>0.448161</td>\n",
       "      <td>0.743202</td>\n",
       "      <td>0.193042</td>\n",
       "      <td>-1.574223</td>\n",
       "      <td>-1.238640</td>\n",
       "      <td>-1.512954</td>\n",
       "      <td>-1.052884</td>\n",
       "      <td>-0.884216</td>\n",
       "      <td>-0.569374</td>\n",
       "      <td>-0.673786</td>\n",
       "      <td>0.999454</td>\n",
       "      <td>-0.398487</td>\n",
       "    </tr>\n",
       "    <tr>\n",
       "      <th>1</th>\n",
       "      <td>0.448161</td>\n",
       "      <td>0.962162</td>\n",
       "      <td>0.193042</td>\n",
       "      <td>0.327164</td>\n",
       "      <td>-0.287691</td>\n",
       "      <td>-0.300691</td>\n",
       "      <td>-0.452368</td>\n",
       "      <td>-0.183804</td>\n",
       "      <td>-0.569374</td>\n",
       "      <td>-0.337793</td>\n",
       "      <td>0.545452</td>\n",
       "      <td>-0.905815</td>\n",
       "    </tr>\n",
       "    <tr>\n",
       "      <th>2</th>\n",
       "      <td>1.460027</td>\n",
       "      <td>0.962162</td>\n",
       "      <td>1.238402</td>\n",
       "      <td>0.327164</td>\n",
       "      <td>-0.287691</td>\n",
       "      <td>0.691160</td>\n",
       "      <td>-1.052884</td>\n",
       "      <td>-1.059319</td>\n",
       "      <td>1.948677</td>\n",
       "      <td>-0.673786</td>\n",
       "      <td>-0.392994</td>\n",
       "      <td>-0.905815</td>\n",
       "    </tr>\n",
       "    <tr>\n",
       "      <th>3</th>\n",
       "      <td>-1.575571</td>\n",
       "      <td>0.086320</td>\n",
       "      <td>0.193042</td>\n",
       "      <td>-0.623530</td>\n",
       "      <td>-1.238640</td>\n",
       "      <td>-1.072131</td>\n",
       "      <td>-1.052884</td>\n",
       "      <td>-0.884216</td>\n",
       "      <td>0.269977</td>\n",
       "      <td>-0.673786</td>\n",
       "      <td>-0.859129</td>\n",
       "      <td>-1.032647</td>\n",
       "    </tr>\n",
       "    <tr>\n",
       "      <th>4</th>\n",
       "      <td>1.460027</td>\n",
       "      <td>0.305281</td>\n",
       "      <td>1.238402</td>\n",
       "      <td>1.277858</td>\n",
       "      <td>-0.151841</td>\n",
       "      <td>0.470749</td>\n",
       "      <td>1.048922</td>\n",
       "      <td>0.516608</td>\n",
       "      <td>1.109327</td>\n",
       "      <td>0.670183</td>\n",
       "      <td>-0.794713</td>\n",
       "      <td>-0.905815</td>\n",
       "    </tr>\n",
       "  </tbody>\n",
       "</table>\n",
       "</div>"
      ],
      "text/plain": [
       "   WorkLifeBalance  PercentSalaryHike  JobSatisfaction  \\\n",
       "0         0.448161           0.743202         0.193042   \n",
       "1         0.448161           0.962162         0.193042   \n",
       "2         1.460027           0.962162         1.238402   \n",
       "3        -1.575571           0.086320         0.193042   \n",
       "4         1.460027           0.305281         1.238402   \n",
       "\n",
       "   EnvironmentSatisfaction  TotalWorkingYears       Age  YearsWithCurrManager  \\\n",
       "0                -1.574223          -1.238640 -1.512954             -1.052884   \n",
       "1                 0.327164          -0.287691 -0.300691             -0.452368   \n",
       "2                 0.327164          -0.287691  0.691160             -1.052884   \n",
       "3                -0.623530          -1.238640 -1.072131             -1.052884   \n",
       "4                 1.277858          -0.151841  0.470749              1.048922   \n",
       "\n",
       "   YearsAtCompany  TrainingTimesLastYear  YearsSinceLastPromotion  \\\n",
       "0       -0.884216              -0.569374                -0.673786   \n",
       "1       -0.183804              -0.569374                -0.337793   \n",
       "2       -1.059319               1.948677                -0.673786   \n",
       "3       -0.884216               0.269977                -0.673786   \n",
       "4        0.516608               1.109327                 0.670183   \n",
       "\n",
       "   MonthlyIncome  DistanceFromHome  \n",
       "0       0.999454         -0.398487  \n",
       "1       0.545452         -0.905815  \n",
       "2      -0.392994         -0.905815  \n",
       "3      -0.859129         -1.032647  \n",
       "4      -0.794713         -0.905815  "
      ]
     },
     "execution_count": 25,
     "metadata": {},
     "output_type": "execute_result"
    }
   ],
   "source": [
    "X_train = train.drop(columns = 'Attrition')\n",
    "y_train = train['Attrition']\n",
    "\n",
    "scaler = StandardScaler().set_output(transform = 'pandas').fit(X_train[features])\n",
    "X_train_std = scaler.transform(X_train[features])\n",
    "\n",
    "X_train_std.head()"
   ]
  },
  {
   "cell_type": "code",
   "execution_count": 26,
   "metadata": {},
   "outputs": [],
   "source": [
    "# Standardize test data\n",
    "X_test = test.drop(columns = 'Attrition')\n",
    "y_test = test['Attrition']\n",
    "\n",
    "X_test_std = scaler.transform(X_test[features])"
   ]
  },
  {
   "cell_type": "code",
   "execution_count": 27,
   "metadata": {},
   "outputs": [],
   "source": [
    "# Function to grab odds ratios\n",
    "\n",
    "def get_OR(model):\n",
    "\n",
    "    # Build a data frame with odds ratios and their confidence intervals.\n",
    "    odds_ratios = pd.DataFrame(\n",
    "        {\n",
    "            \"OR\": model.params,\n",
    "            \"Lower CI\": model.conf_int()[0],\n",
    "            \"Upper CI\": model.conf_int()[1],\n",
    "        }\n",
    "    )\n",
    "    # Exponentiate the data frame\n",
    "    odds_ratios = np.exp(odds_ratios)\n",
    "\n",
    "    # Print the results\n",
    "    # print(odds_ratios.sort_values('OR'))\n",
    "\n",
    "    return (odds_ratios.sort_values('OR').round(3))"
   ]
  },
  {
   "cell_type": "code",
   "execution_count": 28,
   "metadata": {},
   "outputs": [],
   "source": [
    "X_train_std  = sm.add_constant(X_train_std)\n",
    "X_test_std  = sm.add_constant(X_test_std)\n",
    "\n",
    "\n"
   ]
  },
  {
   "cell_type": "markdown",
   "metadata": {},
   "source": [
    "## Create intercept only model"
   ]
  },
  {
   "cell_type": "code",
   "execution_count": 29,
   "metadata": {},
   "outputs": [],
   "source": [
    "# Uncessary as statsmodels reports the log likeihood of the null model...\n",
    "# log_reg_base = sm.Logit(y_train, X_train_std['const']).fit()\n",
    "# print(log_reg_base.summary())"
   ]
  },
  {
   "cell_type": "code",
   "execution_count": 30,
   "metadata": {},
   "outputs": [],
   "source": [
    "# get_OR(log_reg_base)"
   ]
  },
  {
   "cell_type": "markdown",
   "metadata": {},
   "source": [
    "## Create baseline model based on only Initiative Options"
   ]
  },
  {
   "cell_type": "code",
   "execution_count": 31,
   "metadata": {},
   "outputs": [
    {
     "name": "stdout",
     "output_type": "stream",
     "text": [
      "Optimization terminated successfully.\n",
      "         Current function value: 0.325990\n",
      "         Iterations 7\n",
      "                           Logit Regression Results                           \n",
      "==============================================================================\n",
      "Dep. Variable:              Attrition   No. Observations:                 4850\n",
      "Model:                          Logit   Df Residuals:                     4844\n",
      "Method:                           MLE   Df Model:                            5\n",
      "Date:                Mon, 14 Aug 2023   Pseudo R-squ.:                  0.5297\n",
      "Time:                        14:03:09   Log-Likelihood:                -1581.1\n",
      "converged:                       True   LL-Null:                       -3361.8\n",
      "Covariance Type:            nonrobust   LLR p-value:                     0.000\n",
      "===========================================================================================\n",
      "                              coef    std err          z      P>|z|      [0.025      0.975]\n",
      "-------------------------------------------------------------------------------------------\n",
      "const                      -0.0445      0.045     -0.984      0.325      -0.133       0.044\n",
      "WorkLifeBalance            -2.0918      0.065    -32.209      0.000      -2.219      -1.964\n",
      "JobSatisfaction            -0.8965      0.049    -18.216      0.000      -0.993      -0.800\n",
      "EnvironmentSatisfaction    -0.7963      0.048    -16.480      0.000      -0.891      -0.702\n",
      "TrainingTimesLastYear      -0.3555      0.047     -7.539      0.000      -0.448      -0.263\n",
      "MonthlyIncome              -0.0949      0.045     -2.104      0.035      -0.183      -0.007\n",
      "===========================================================================================\n"
     ]
    }
   ],
   "source": [
    "log_reg_init = sm.Logit(y_train, X_train_std[['const', 'WorkLifeBalance', 'JobSatisfaction', 'EnvironmentSatisfaction', 'TrainingTimesLastYear', 'MonthlyIncome']]).fit()\n",
    "print(log_reg_init.summary())"
   ]
  },
  {
   "cell_type": "code",
   "execution_count": 32,
   "metadata": {},
   "outputs": [
    {
     "data": {
      "text/html": [
       "<div>\n",
       "<style scoped>\n",
       "    .dataframe tbody tr th:only-of-type {\n",
       "        vertical-align: middle;\n",
       "    }\n",
       "\n",
       "    .dataframe tbody tr th {\n",
       "        vertical-align: top;\n",
       "    }\n",
       "\n",
       "    .dataframe thead th {\n",
       "        text-align: right;\n",
       "    }\n",
       "</style>\n",
       "<table border=\"1\" class=\"dataframe\">\n",
       "  <thead>\n",
       "    <tr style=\"text-align: right;\">\n",
       "      <th></th>\n",
       "      <th>OR</th>\n",
       "      <th>Lower CI</th>\n",
       "      <th>Upper CI</th>\n",
       "    </tr>\n",
       "  </thead>\n",
       "  <tbody>\n",
       "    <tr>\n",
       "      <th>WorkLifeBalance</th>\n",
       "      <td>0.123</td>\n",
       "      <td>0.109</td>\n",
       "      <td>0.140</td>\n",
       "    </tr>\n",
       "    <tr>\n",
       "      <th>JobSatisfaction</th>\n",
       "      <td>0.408</td>\n",
       "      <td>0.370</td>\n",
       "      <td>0.449</td>\n",
       "    </tr>\n",
       "    <tr>\n",
       "      <th>EnvironmentSatisfaction</th>\n",
       "      <td>0.451</td>\n",
       "      <td>0.410</td>\n",
       "      <td>0.496</td>\n",
       "    </tr>\n",
       "    <tr>\n",
       "      <th>TrainingTimesLastYear</th>\n",
       "      <td>0.701</td>\n",
       "      <td>0.639</td>\n",
       "      <td>0.769</td>\n",
       "    </tr>\n",
       "    <tr>\n",
       "      <th>MonthlyIncome</th>\n",
       "      <td>0.909</td>\n",
       "      <td>0.833</td>\n",
       "      <td>0.994</td>\n",
       "    </tr>\n",
       "    <tr>\n",
       "      <th>const</th>\n",
       "      <td>0.956</td>\n",
       "      <td>0.875</td>\n",
       "      <td>1.045</td>\n",
       "    </tr>\n",
       "  </tbody>\n",
       "</table>\n",
       "</div>"
      ],
      "text/plain": [
       "                            OR  Lower CI  Upper CI\n",
       "WorkLifeBalance          0.123     0.109     0.140\n",
       "JobSatisfaction          0.408     0.370     0.449\n",
       "EnvironmentSatisfaction  0.451     0.410     0.496\n",
       "TrainingTimesLastYear    0.701     0.639     0.769\n",
       "MonthlyIncome            0.909     0.833     0.994\n",
       "const                    0.956     0.875     1.045"
      ]
     },
     "execution_count": 32,
     "metadata": {},
     "output_type": "execute_result"
    }
   ],
   "source": [
    "get_OR(log_reg_init)"
   ]
  },
  {
   "cell_type": "markdown",
   "metadata": {},
   "source": [
    "## Extend model with high correlation features"
   ]
  },
  {
   "cell_type": "code",
   "execution_count": 33,
   "metadata": {},
   "outputs": [
    {
     "name": "stdout",
     "output_type": "stream",
     "text": [
      "Optimization terminated successfully.\n",
      "         Current function value: 0.207585\n",
      "         Iterations 8\n",
      "                           Logit Regression Results                           \n",
      "==============================================================================\n",
      "Dep. Variable:              Attrition   No. Observations:                 4850\n",
      "Model:                          Logit   Df Residuals:                     4837\n",
      "Method:                           MLE   Df Model:                           12\n",
      "Date:                Mon, 14 Aug 2023   Pseudo R-squ.:                  0.7005\n",
      "Time:                        14:03:09   Log-Likelihood:                -1006.8\n",
      "converged:                       True   LL-Null:                       -3361.8\n",
      "Covariance Type:            nonrobust   LLR p-value:                     0.000\n",
      "===========================================================================================\n",
      "                              coef    std err          z      P>|z|      [0.025      0.975]\n",
      "-------------------------------------------------------------------------------------------\n",
      "const                      -0.0527      0.058     -0.908      0.364      -0.166       0.061\n",
      "WorkLifeBalance            -2.1666      0.084    -25.654      0.000      -2.332      -2.001\n",
      "PercentSalaryHike          -1.9323      0.087    -22.166      0.000      -2.103      -1.761\n",
      "JobSatisfaction            -0.9818      0.063    -15.509      0.000      -1.106      -0.858\n",
      "EnvironmentSatisfaction    -0.8099      0.061    -13.193      0.000      -0.930      -0.690\n",
      "TotalWorkingYears           0.0546      0.101      0.539      0.590      -0.144       0.253\n",
      "Age                        -0.5017      0.083     -6.034      0.000      -0.665      -0.339\n",
      "YearsWithCurrManager       -0.6930      0.094     -7.359      0.000      -0.878      -0.508\n",
      "YearsAtCompany             -0.0829      0.106     -0.779      0.436      -0.292       0.126\n",
      "TrainingTimesLastYear      -0.4532      0.062     -7.302      0.000      -0.575      -0.332\n",
      "YearsSinceLastPromotion     0.3588      0.076      4.736      0.000       0.210       0.507\n",
      "MonthlyIncome              -0.1983      0.059     -3.387      0.001      -0.313      -0.084\n",
      "DistanceFromHome            0.6635      0.064     10.429      0.000       0.539       0.788\n",
      "===========================================================================================\n"
     ]
    }
   ],
   "source": [
    "features = ['const', 'WorkLifeBalance', 'PercentSalaryHike', 'JobSatisfaction', 'EnvironmentSatisfaction', 'TotalWorkingYears', 'Age', 'YearsWithCurrManager',\n",
    "    'YearsAtCompany', 'TrainingTimesLastYear', 'YearsSinceLastPromotion', 'MonthlyIncome', 'DistanceFromHome']\n",
    "\n",
    "log_reg_ext = sm.Logit(y_train, X_train_std[features]).fit()\n",
    "print(log_reg_ext.summary())"
   ]
  },
  {
   "cell_type": "code",
   "execution_count": 34,
   "metadata": {},
   "outputs": [
    {
     "data": {
      "text/html": [
       "<div>\n",
       "<style scoped>\n",
       "    .dataframe tbody tr th:only-of-type {\n",
       "        vertical-align: middle;\n",
       "    }\n",
       "\n",
       "    .dataframe tbody tr th {\n",
       "        vertical-align: top;\n",
       "    }\n",
       "\n",
       "    .dataframe thead th {\n",
       "        text-align: right;\n",
       "    }\n",
       "</style>\n",
       "<table border=\"1\" class=\"dataframe\">\n",
       "  <thead>\n",
       "    <tr style=\"text-align: right;\">\n",
       "      <th></th>\n",
       "      <th>OR</th>\n",
       "      <th>Lower CI</th>\n",
       "      <th>Upper CI</th>\n",
       "    </tr>\n",
       "  </thead>\n",
       "  <tbody>\n",
       "    <tr>\n",
       "      <th>WorkLifeBalance</th>\n",
       "      <td>0.115</td>\n",
       "      <td>0.097</td>\n",
       "      <td>0.135</td>\n",
       "    </tr>\n",
       "    <tr>\n",
       "      <th>PercentSalaryHike</th>\n",
       "      <td>0.145</td>\n",
       "      <td>0.122</td>\n",
       "      <td>0.172</td>\n",
       "    </tr>\n",
       "    <tr>\n",
       "      <th>JobSatisfaction</th>\n",
       "      <td>0.375</td>\n",
       "      <td>0.331</td>\n",
       "      <td>0.424</td>\n",
       "    </tr>\n",
       "    <tr>\n",
       "      <th>EnvironmentSatisfaction</th>\n",
       "      <td>0.445</td>\n",
       "      <td>0.394</td>\n",
       "      <td>0.502</td>\n",
       "    </tr>\n",
       "    <tr>\n",
       "      <th>YearsWithCurrManager</th>\n",
       "      <td>0.500</td>\n",
       "      <td>0.416</td>\n",
       "      <td>0.601</td>\n",
       "    </tr>\n",
       "    <tr>\n",
       "      <th>Age</th>\n",
       "      <td>0.605</td>\n",
       "      <td>0.514</td>\n",
       "      <td>0.713</td>\n",
       "    </tr>\n",
       "    <tr>\n",
       "      <th>TrainingTimesLastYear</th>\n",
       "      <td>0.636</td>\n",
       "      <td>0.563</td>\n",
       "      <td>0.718</td>\n",
       "    </tr>\n",
       "    <tr>\n",
       "      <th>MonthlyIncome</th>\n",
       "      <td>0.820</td>\n",
       "      <td>0.731</td>\n",
       "      <td>0.920</td>\n",
       "    </tr>\n",
       "    <tr>\n",
       "      <th>YearsAtCompany</th>\n",
       "      <td>0.920</td>\n",
       "      <td>0.747</td>\n",
       "      <td>1.134</td>\n",
       "    </tr>\n",
       "    <tr>\n",
       "      <th>const</th>\n",
       "      <td>0.949</td>\n",
       "      <td>0.847</td>\n",
       "      <td>1.063</td>\n",
       "    </tr>\n",
       "    <tr>\n",
       "      <th>TotalWorkingYears</th>\n",
       "      <td>1.056</td>\n",
       "      <td>0.866</td>\n",
       "      <td>1.288</td>\n",
       "    </tr>\n",
       "    <tr>\n",
       "      <th>YearsSinceLastPromotion</th>\n",
       "      <td>1.432</td>\n",
       "      <td>1.234</td>\n",
       "      <td>1.661</td>\n",
       "    </tr>\n",
       "    <tr>\n",
       "      <th>DistanceFromHome</th>\n",
       "      <td>1.942</td>\n",
       "      <td>1.714</td>\n",
       "      <td>2.199</td>\n",
       "    </tr>\n",
       "  </tbody>\n",
       "</table>\n",
       "</div>"
      ],
      "text/plain": [
       "                            OR  Lower CI  Upper CI\n",
       "WorkLifeBalance          0.115     0.097     0.135\n",
       "PercentSalaryHike        0.145     0.122     0.172\n",
       "JobSatisfaction          0.375     0.331     0.424\n",
       "EnvironmentSatisfaction  0.445     0.394     0.502\n",
       "YearsWithCurrManager     0.500     0.416     0.601\n",
       "Age                      0.605     0.514     0.713\n",
       "TrainingTimesLastYear    0.636     0.563     0.718\n",
       "MonthlyIncome            0.820     0.731     0.920\n",
       "YearsAtCompany           0.920     0.747     1.134\n",
       "const                    0.949     0.847     1.063\n",
       "TotalWorkingYears        1.056     0.866     1.288\n",
       "YearsSinceLastPromotion  1.432     1.234     1.661\n",
       "DistanceFromHome         1.942     1.714     2.199"
      ]
     },
     "execution_count": 34,
     "metadata": {},
     "output_type": "execute_result"
    }
   ],
   "source": [
    "get_OR(log_reg_ext)"
   ]
  },
  {
   "cell_type": "markdown",
   "metadata": {},
   "source": [
    "### Calculate change in odds"
   ]
  },
  {
   "cell_type": "code",
   "execution_count": 141,
   "metadata": {},
   "outputs": [
    {
     "data": {
      "text/html": [
       "<div>\n",
       "<style scoped>\n",
       "    .dataframe tbody tr th:only-of-type {\n",
       "        vertical-align: middle;\n",
       "    }\n",
       "\n",
       "    .dataframe tbody tr th {\n",
       "        vertical-align: top;\n",
       "    }\n",
       "\n",
       "    .dataframe thead th {\n",
       "        text-align: right;\n",
       "    }\n",
       "</style>\n",
       "<table border=\"1\" class=\"dataframe\">\n",
       "  <thead>\n",
       "    <tr style=\"text-align: right;\">\n",
       "      <th></th>\n",
       "      <th>Variable</th>\n",
       "      <th>Change in Odds</th>\n",
       "      <th>Lower CI</th>\n",
       "      <th>Upper CI</th>\n",
       "      <th>Initiative Option</th>\n",
       "    </tr>\n",
       "  </thead>\n",
       "  <tbody>\n",
       "    <tr>\n",
       "      <th>0</th>\n",
       "      <td>WorkLifeBalance</td>\n",
       "      <td>-88.5</td>\n",
       "      <td>-90.3</td>\n",
       "      <td>-86.5</td>\n",
       "      <td>Yes</td>\n",
       "    </tr>\n",
       "    <tr>\n",
       "      <th>1</th>\n",
       "      <td>PercentSalaryHike</td>\n",
       "      <td>-85.5</td>\n",
       "      <td>-87.8</td>\n",
       "      <td>-82.8</td>\n",
       "      <td>No</td>\n",
       "    </tr>\n",
       "    <tr>\n",
       "      <th>2</th>\n",
       "      <td>JobSatisfaction</td>\n",
       "      <td>-62.5</td>\n",
       "      <td>-66.9</td>\n",
       "      <td>-57.6</td>\n",
       "      <td>Yes</td>\n",
       "    </tr>\n",
       "    <tr>\n",
       "      <th>3</th>\n",
       "      <td>EnvironmentSatisfaction</td>\n",
       "      <td>-55.5</td>\n",
       "      <td>-60.6</td>\n",
       "      <td>-49.8</td>\n",
       "      <td>Yes</td>\n",
       "    </tr>\n",
       "    <tr>\n",
       "      <th>4</th>\n",
       "      <td>YearsWithCurrManager</td>\n",
       "      <td>-50.0</td>\n",
       "      <td>-58.4</td>\n",
       "      <td>-39.9</td>\n",
       "      <td>No</td>\n",
       "    </tr>\n",
       "    <tr>\n",
       "      <th>5</th>\n",
       "      <td>Age</td>\n",
       "      <td>-39.5</td>\n",
       "      <td>-48.6</td>\n",
       "      <td>-28.7</td>\n",
       "      <td>No</td>\n",
       "    </tr>\n",
       "    <tr>\n",
       "      <th>6</th>\n",
       "      <td>TrainingTimesLastYear</td>\n",
       "      <td>-36.4</td>\n",
       "      <td>-43.7</td>\n",
       "      <td>-28.2</td>\n",
       "      <td>Yes</td>\n",
       "    </tr>\n",
       "    <tr>\n",
       "      <th>7</th>\n",
       "      <td>MonthlyIncome</td>\n",
       "      <td>-18.0</td>\n",
       "      <td>-26.9</td>\n",
       "      <td>-8.0</td>\n",
       "      <td>Yes</td>\n",
       "    </tr>\n",
       "    <tr>\n",
       "      <th>8</th>\n",
       "      <td>YearsAtCompany</td>\n",
       "      <td>-8.0</td>\n",
       "      <td>-25.3</td>\n",
       "      <td>13.4</td>\n",
       "      <td>No</td>\n",
       "    </tr>\n",
       "    <tr>\n",
       "      <th>10</th>\n",
       "      <td>TotalWorkingYears</td>\n",
       "      <td>5.6</td>\n",
       "      <td>-13.4</td>\n",
       "      <td>28.8</td>\n",
       "      <td>No</td>\n",
       "    </tr>\n",
       "    <tr>\n",
       "      <th>11</th>\n",
       "      <td>YearsSinceLastPromotion</td>\n",
       "      <td>43.2</td>\n",
       "      <td>23.4</td>\n",
       "      <td>66.1</td>\n",
       "      <td>No</td>\n",
       "    </tr>\n",
       "    <tr>\n",
       "      <th>12</th>\n",
       "      <td>DistanceFromHome</td>\n",
       "      <td>94.2</td>\n",
       "      <td>71.4</td>\n",
       "      <td>119.9</td>\n",
       "      <td>No</td>\n",
       "    </tr>\n",
       "  </tbody>\n",
       "</table>\n",
       "</div>"
      ],
      "text/plain": [
       "                   Variable  Change in Odds  Lower CI  Upper CI  \\\n",
       "0           WorkLifeBalance           -88.5     -90.3     -86.5   \n",
       "1         PercentSalaryHike           -85.5     -87.8     -82.8   \n",
       "2           JobSatisfaction           -62.5     -66.9     -57.6   \n",
       "3   EnvironmentSatisfaction           -55.5     -60.6     -49.8   \n",
       "4      YearsWithCurrManager           -50.0     -58.4     -39.9   \n",
       "5                       Age           -39.5     -48.6     -28.7   \n",
       "6     TrainingTimesLastYear           -36.4     -43.7     -28.2   \n",
       "7             MonthlyIncome           -18.0     -26.9      -8.0   \n",
       "8            YearsAtCompany            -8.0     -25.3      13.4   \n",
       "10        TotalWorkingYears             5.6     -13.4      28.8   \n",
       "11  YearsSinceLastPromotion            43.2      23.4      66.1   \n",
       "12         DistanceFromHome            94.2      71.4     119.9   \n",
       "\n",
       "   Initiative Option  \n",
       "0                Yes  \n",
       "1                 No  \n",
       "2                Yes  \n",
       "3                Yes  \n",
       "4                 No  \n",
       "5                 No  \n",
       "6                Yes  \n",
       "7                Yes  \n",
       "8                 No  \n",
       "10                No  \n",
       "11                No  \n",
       "12                No  "
      ]
     },
     "execution_count": 141,
     "metadata": {},
     "output_type": "execute_result"
    }
   ],
   "source": [
    "def change_in_odds(model):\n",
    "    return (get_OR(model) - 1) * 100\n",
    "\n",
    "odds_change = change_in_odds(log_reg_ext).reset_index().rename(columns = {'index': \"Variable\", \"OR\": 'Change in Odds'})\n",
    "odds_change = odds_change[odds_change[\"Variable\"] != 'const']\n",
    "Initiative = {'Initiative Option': ['Yes', 'No', 'Yes',\n",
    "       'Yes', 'No', 'No',\n",
    "       'Yes', 'Yes', 'No',\n",
    "       'No', 'No', 'No', 'No']}\n",
    "\n",
    "odds_change['Initiative Option'] = pd.Series(Initiative['Initiative Option'])\n",
    "odds_change"
   ]
  },
  {
   "cell_type": "code",
   "execution_count": 108,
   "metadata": {},
   "outputs": [],
   "source": [
    "import matplotlib\n",
    "matplotlib.rcParams['font.family'] = 'Verdana'\n",
    "sns.set(style = 'whitegrid')"
   ]
  },
  {
   "cell_type": "code",
   "execution_count": 155,
   "metadata": {},
   "outputs": [
    {
     "data": {
      "image/png": "[encoded data removed]",
      "text/plain": [
       "<Figure size 700x600 with 1 Axes>"
      ]
     },
     "metadata": {},
     "output_type": "display_data"
    }
   ],
   "source": [
    "plt.figure(figsize=(7, 6))  # Adjust the width and height as needed\n",
    "\n",
    "\n",
    "\n",
    "sns.pointplot(data = odds_change, x = 'Change in Odds', y = 'Variable', join = False, hue = 'Initiative Option', palette = ['tab:blue', 'tab:gray'], dodge = False, scale = 1)\n",
    "\n",
    "plt.errorbar(y=odds_change['Variable'], x=odds_change['Change in Odds'],\n",
    " xerr=(odds_change['Change in Odds'] - odds_change['Lower CI'], odds_change['Upper CI'] - odds_change['Change in Odds']),\n",
    "fmt='none', color='black', elinewidth = 2)  # Plot the error bars\n",
    "\n",
    "plt.ylabel(None)\n",
    "plt.xlabel('% Change in Odds')\n",
    "\n",
    "plt.title('Predictor Relationship with Turnover')\n",
    "plt.tight_layout()\n",
    "\n",
    "# Remove top and right spines\n",
    "sns.despine(right=True, top=True, left = True, bottom = True)  # Set right and top to True to remove the corresponding spines\n",
    "plt.legend().remove()\n",
    "\n",
    "plt.show()\n"
   ]
  },
  {
   "cell_type": "markdown",
   "metadata": {},
   "source": [
    "This means that each additional increase (standard deviation) of one WorkLifeBalance_sd is associated with an 88.3% (86.5-90.3)decrease in the odds of a worker leaving the company.\n"
   ]
  },
  {
   "cell_type": "markdown",
   "metadata": {},
   "source": [
    "## Evaluate Model Performance"
   ]
  },
  {
   "cell_type": "code",
   "execution_count": 36,
   "metadata": {},
   "outputs": [],
   "source": [
    "# Train\n",
    "y_pred_train = log_reg_ext.predict(X_train_std)\n",
    "prediction_train = list(map(round, y_pred_train))\n",
    "\n",
    "# Test\n",
    "y_pred_test = log_reg_ext.predict(X_test_std)\n",
    "prediction_test = list(map(round, y_pred_test))\n"
   ]
  },
  {
   "cell_type": "code",
   "execution_count": 267,
   "metadata": {},
   "outputs": [
    {
     "data": {
      "text/plain": [
       "0.0    1141\n",
       "1.0     288\n",
       "Name: count, dtype: int64"
      ]
     },
     "execution_count": 267,
     "metadata": {},
     "output_type": "execute_result"
    }
   ],
   "source": [
    "y_pred_test.round().value_counts()"
   ]
  },
  {
   "cell_type": "code",
   "execution_count": 37,
   "metadata": {},
   "outputs": [
    {
     "data": {
      "image/png": "[encoded data removed]",
      "text/plain": [
       "<Figure size 640x480 with 2 Axes>"
      ]
     },
     "metadata": {},
     "output_type": "display_data"
    },
    {
     "data": {
      "image/png": "[encoded data removed]",
      "text/plain": [
       "<Figure size 640x480 with 2 Axes>"
      ]
     },
     "metadata": {},
     "output_type": "display_data"
    }
   ],
   "source": [
    "# Now that we have done the legwork, we can produce the desired confusion matrices.\n",
    "\n",
    "# Create a sklearn confusion matrix\n",
    "cm_train = confusion_matrix(y_train, prediction_train)\n",
    "\n",
    "# Should we want a slightly more graphical display, sklearn also offers ConfusionMatrixDisplay()\n",
    "\n",
    "disp = ConfusionMatrixDisplay(confusion_matrix=cm_train)\n",
    "disp.plot()\n",
    "plt.title('Training')\n",
    "plt.show()\n",
    "\n",
    "\n",
    "cm_test = confusion_matrix(y_test, prediction_test)\n",
    "\n",
    "# Should we want a slightly more graphical display, sklearn also offers ConfusionMatrixDisplay()\n",
    "\n",
    "disp = ConfusionMatrixDisplay(confusion_matrix=cm_test)\n",
    "disp.plot()\n",
    "plt.title('Test')\n",
    "plt.show()\n"
   ]
  },
  {
   "cell_type": "code",
   "execution_count": 71,
   "metadata": {},
   "outputs": [
    {
     "name": "stdout",
     "output_type": "stream",
     "text": [
      "FPR:  9.25\n",
      "FNR:  15.46\n"
     ]
    }
   ],
   "source": [
    "FP = cm_test[0,1]\n",
    "TN = cm_test[0,0]\n",
    "\n",
    "FPR = FP/ (FP+TN)\n",
    "\n",
    "print('FPR: ', round(FPR*100,2))\n",
    "\n",
    "\n",
    "FN = cm_test[1,0]\n",
    "TP = cm_test[1,1]\n",
    "\n",
    "FNR = FN/ (FN+TP)\n",
    "\n",
    "print('FNR: ', round(FNR*100,2))\n"
   ]
  },
  {
   "cell_type": "code",
   "execution_count": 38,
   "metadata": {},
   "outputs": [
    {
     "name": "stdout",
     "output_type": "stream",
     "text": [
      "training performance: \n",
      "               precision    recall  f1-score   support\n",
      "\n",
      "           0       0.91      0.91      0.91      2425\n",
      "           1       0.91      0.92      0.91      2425\n",
      "\n",
      "    accuracy                           0.91      4850\n",
      "   macro avg       0.91      0.91      0.91      4850\n",
      "weighted avg       0.91      0.91      0.91      4850\n",
      "\n",
      "test performance: \n",
      "               precision    recall  f1-score   support\n",
      "\n",
      "           0       0.97      0.91      0.94      1222\n",
      "           1       0.61      0.85      0.71       207\n",
      "\n",
      "    accuracy                           0.90      1429\n",
      "   macro avg       0.79      0.88      0.82      1429\n",
      "weighted avg       0.92      0.90      0.91      1429\n",
      "\n"
     ]
    }
   ],
   "source": [
    "# Classification_report() has two required fields: the ground truth (y) and the binary predicted values (pred)\n",
    "\n",
    "print('training performance:', '\\n', classification_report(y_train,prediction_train))\n",
    "\n",
    "print('test performance:', '\\n',  classification_report(y_test,prediction_test))"
   ]
  },
  {
   "cell_type": "code",
   "execution_count": 39,
   "metadata": {},
   "outputs": [
    {
     "name": "stdout",
     "output_type": "stream",
     "text": [
      "0.9736791582527367\n",
      "0.9503190303375317\n"
     ]
    }
   ],
   "source": [
    "# First we use sklearn's roc_auc_score() function to find the area under the curve for our initial model.\n",
    "# Having calculated this value, we can then plot in on a graph along with our ROC curve.\n",
    "\n",
    "train_auc=roc_auc_score(y_train,y_pred_train)\n",
    "print(train_auc)\n",
    "\n",
    "\n",
    "test_auc=roc_auc_score(y_test,y_pred_test)\n",
    "print(test_auc)"
   ]
  },
  {
   "cell_type": "code",
   "execution_count": 40,
   "metadata": {},
   "outputs": [
    {
     "data": {
      "image/png": "[encoded data removed]",
      "text/plain": [
       "<Figure size 640x480 with 1 Axes>"
      ]
     },
     "metadata": {},
     "output_type": "display_data"
    }
   ],
   "source": [
    "fpr, tpr, thresholds = roc_curve(y_test,  y_pred_test)\n",
    "\n",
    "# Create ROC curve\n",
    "plt.plot(fpr, tpr, label='ROC curve (area = %.2f)' %test_auc)\n",
    "plt.plot([0, 1], [0, 1], linestyle='--', lw=2, color='r', label='Random guess')\n",
    "plt.title('ROC curve')\n",
    "plt.ylabel('True Positive Rate')\n",
    "plt.xlabel('False Positive Rate')\n",
    "plt.grid()\n",
    "plt.legend()\n",
    "plt.title('Test data - ROC Curve')\n",
    "plt.show()"
   ]
  },
  {
   "cell_type": "markdown",
   "metadata": {},
   "source": [
    "## Value Prediction\n",
    "\n",
    "Test impact of top initiative: Increase WorkLifeBalance by 0.3"
   ]
  },
  {
   "cell_type": "code",
   "execution_count": 41,
   "metadata": {},
   "outputs": [
    {
     "name": "stdout",
     "output_type": "stream",
     "text": [
      "                           Logit Regression Results                           \n",
      "==============================================================================\n",
      "Dep. Variable:              Attrition   No. Observations:                 4850\n",
      "Model:                          Logit   Df Residuals:                     4837\n",
      "Method:                           MLE   Df Model:                           12\n",
      "Date:                Mon, 14 Aug 2023   Pseudo R-squ.:                  0.7005\n",
      "Time:                        14:03:10   Log-Likelihood:                -1006.8\n",
      "converged:                       True   LL-Null:                       -3361.8\n",
      "Covariance Type:            nonrobust   LLR p-value:                     0.000\n",
      "===========================================================================================\n",
      "                              coef    std err          z      P>|z|      [0.025      0.975]\n",
      "-------------------------------------------------------------------------------------------\n",
      "const                      -0.0527      0.058     -0.908      0.364      -0.166       0.061\n",
      "WorkLifeBalance            -2.1666      0.084    -25.654      0.000      -2.332      -2.001\n",
      "PercentSalaryHike          -1.9323      0.087    -22.166      0.000      -2.103      -1.761\n",
      "JobSatisfaction            -0.9818      0.063    -15.509      0.000      -1.106      -0.858\n",
      "EnvironmentSatisfaction    -0.8099      0.061    -13.193      0.000      -0.930      -0.690\n",
      "TotalWorkingYears           0.0546      0.101      0.539      0.590      -0.144       0.253\n",
      "Age                        -0.5017      0.083     -6.034      0.000      -0.665      -0.339\n",
      "YearsWithCurrManager       -0.6930      0.094     -7.359      0.000      -0.878      -0.508\n",
      "YearsAtCompany             -0.0829      0.106     -0.779      0.436      -0.292       0.126\n",
      "TrainingTimesLastYear      -0.4532      0.062     -7.302      0.000      -0.575      -0.332\n",
      "YearsSinceLastPromotion     0.3588      0.076      4.736      0.000       0.210       0.507\n",
      "MonthlyIncome              -0.1983      0.059     -3.387      0.001      -0.313      -0.084\n",
      "DistanceFromHome            0.6635      0.064     10.429      0.000       0.539       0.788\n",
      "===========================================================================================\n"
     ]
    }
   ],
   "source": [
    "# Current model\n",
    "print(log_reg_ext.summary())"
   ]
  },
  {
   "cell_type": "code",
   "execution_count": null,
   "metadata": {},
   "outputs": [],
   "source": []
  },
  {
   "cell_type": "code",
   "execution_count": 42,
   "metadata": {},
   "outputs": [
    {
     "name": "stdout",
     "output_type": "stream",
     "text": [
      "0.23090596410964 0.34053048051712204\n"
     ]
    }
   ],
   "source": [
    "# print(y_pred_test.mean(), y_pred_test.std())\n"
   ]
  },
  {
   "cell_type": "code",
   "execution_count": 43,
   "metadata": {},
   "outputs": [
    {
     "name": "stdout",
     "output_type": "stream",
     "text": [
      "3.0293911826452065\n",
      "3.223792862141358\n"
     ]
    }
   ],
   "source": [
    "# features = ['WorkLifeBalance', 'PercentSalaryHike', 'JobSatisfaction', 'EnvironmentSatisfaction', 'TotalWorkingYears', 'Age', 'YearsWithCurrManager',\n",
    "#     'YearsAtCompany', 'TrainingTimesLastYear', 'YearsSinceLastPromotion',  'MonthlyIncome', 'DistanceFromHome']\n",
    "\n",
    "# print(X_test['WorkLifeBalance'].mean())\n",
    "# X_test_effect = X_test.copy()\n",
    "\n",
    "# X_test_effect['WorkLifeBalance'] = X_test['WorkLifeBalance'].apply(lambda x: x + 0.3 if x <= 3.7 else x)\n",
    "# print(X_test_effect['WorkLifeBalance'].mean())\n"
   ]
  },
  {
   "cell_type": "code",
   "execution_count": 44,
   "metadata": {},
   "outputs": [],
   "source": [
    "# X_test_std_effect = scaler.transform(X_test_effect[features])\n",
    "# X_test_std_effect  = sm.add_constant(X_test_std_effect)\n",
    "\n",
    "# features = ['const', 'WorkLifeBalance', 'PercentSalaryHike', 'JobSatisfaction', 'EnvironmentSatisfaction', 'TotalWorkingYears', 'Age', 'YearsWithCurrManager',\n",
    "#     'YearsAtCompany', 'TrainingTimesLastYear', 'YearsSinceLastPromotion', 'MonthlyIncome', 'DistanceFromHome']\n",
    "\n",
    "# y_pred_effect = log_reg_ext.predict(X_test_std_effect)"
   ]
  },
  {
   "cell_type": "code",
   "execution_count": 45,
   "metadata": {},
   "outputs": [
    {
     "name": "stdout",
     "output_type": "stream",
     "text": [
      "0.19782945981704753 0.32296956814369837\n"
     ]
    }
   ],
   "source": [
    "# print(y_pred_effect.mean(), y_pred_effect.std())\n"
   ]
  },
  {
   "cell_type": "code",
   "execution_count": 46,
   "metadata": {},
   "outputs": [],
   "source": [
    "# def get_mean_ci(df):\n",
    "#     degrees_free = len(df)-1\n",
    "#     mu = df.mean()\n",
    "#     sem = df.sem()\n",
    "#     confidence = 0.95\n",
    "#     ci = stats.t.interval(confidence, degrees_free, loc=mu, scale=sem)\n",
    "#     return mu, ci"
   ]
  },
  {
   "cell_type": "code",
   "execution_count": 47,
   "metadata": {},
   "outputs": [
    {
     "name": "stdout",
     "output_type": "stream",
     "text": [
      "Original mean = 3.0293911826452065; ci = (2.9818067119742233, 3.0769756533161896)\n"
     ]
    }
   ],
   "source": [
    "# mu, ci = get_mean_ci(X_test['WorkLifeBalance'])\n",
    "# print(f'Original mean = {mu}; ci = {ci}')\n"
   ]
  },
  {
   "cell_type": "code",
   "execution_count": 48,
   "metadata": {},
   "outputs": [
    {
     "data": {
      "text/plain": [
       "array([2.53, 3.24])"
      ]
     },
     "execution_count": 48,
     "metadata": {},
     "output_type": "execute_result"
    }
   ],
   "source": [
    "# np.round((2.5253,3.235352),2)"
   ]
  },
  {
   "cell_type": "code",
   "execution_count": 49,
   "metadata": {},
   "outputs": [],
   "source": [
    "# # Functionalize to compare with other variables\n",
    "\n",
    "# def get_pred_effect(X_test, feature, value_change, scaler, model , limit = False):\n",
    "\n",
    "#     features = ['WorkLifeBalance', 'PercentSalaryHike', 'JobSatisfaction', 'EnvironmentSatisfaction', 'TotalWorkingYears', 'Age', 'YearsWithCurrManager',\n",
    "#     'YearsAtCompany', 'TrainingTimesLastYear', 'YearsSinceLastPromotion', 'MonthlyIncome', 'DistanceFromHome']\n",
    "\n",
    "#     mu, ci = get_mean_ci(X_test[feature])\n",
    "\n",
    "#     # print(f'Original mean = {mu.round(2)}; ci = {np.round(ci,2)}')\n",
    "\n",
    "\n",
    "#     X_test_effect = X_test.copy()\n",
    "\n",
    "\n",
    "#     if limit:\n",
    "#         value_limit = X_test_effect[feature].max() - value_change\n",
    "\n",
    "#         X_test_effect[feature] = X_test_effect[feature].apply(lambda x: x + value_change if x <= value_limit else x)\n",
    "\n",
    "#     else:\n",
    "#         X_test_effect[feature] = X_test_effect[feature].apply(lambda x: x + value_change)\n",
    "\n",
    "#     mu, ci = get_mean_ci(X_test_effect[feature])\n",
    "#     # print(f'Updated mean = {mu.round(2)}; ci = {np.round(ci,2)}')\n",
    "\n",
    "\n",
    "#     X_test_std_effect = scaler.transform(X_test_effect[features])\n",
    "#     X_test_std_effect  = sm.add_constant(X_test_std_effect)\n",
    "\n",
    "#     y_pred_effect = model.predict(X_test_std_effect)\n",
    "\n",
    "\n",
    "#     mu_test, ci_test = get_mean_ci(y_pred_test)\n",
    "#     # print(f'Original Attrition Prediction = {mu_test.round(2)}; ci = {np.round(ci_test,2)}')\n",
    "\n",
    "\n",
    "#     mu_effect, ci_effect = get_mean_ci(y_pred_effect)\n",
    "#     # print(f'Updated Attrition Prediction = {mu_effect.round(2)}; ci = {np.round(ci_effect,2)}')\n",
    "\n",
    "\n",
    "#     diff_in_prediction = np.round((y_pred_effect - y_pred_test).mean() * 100,3)\n",
    "#     # print('Diff in Prediction', diff_in_prediction)\n",
    "\n",
    "#     return (mu_test, ci_test, mu_effect, ci_effect)"
   ]
  },
  {
   "cell_type": "code",
   "execution_count": 50,
   "metadata": {},
   "outputs": [
    {
     "data": {
      "text/plain": [
       "(0.23090596410964,\n",
       " (0.2132351635973806, 0.24857676462189943),\n",
       " 0.19782945981704753,\n",
       " (0.18106992979926134, 0.2145889898348337))"
      ]
     },
     "execution_count": 50,
     "metadata": {},
     "output_type": "execute_result"
    }
   ],
   "source": [
    "# get_pred_effect(X_test, 'WorkLifeBalance', 0.3, scaler, log_reg_ext, limit = True)"
   ]
  },
  {
   "cell_type": "code",
   "execution_count": 51,
   "metadata": {},
   "outputs": [
    {
     "data": {
      "text/plain": [
       "(0.23090596410964,\n",
       " (0.2132351635973806, 0.24857676462189943),\n",
       " 0.22889000216598548,\n",
       " (0.21126144253609647, 0.2465185617958745))"
      ]
     },
     "execution_count": 51,
     "metadata": {},
     "output_type": "execute_result"
    }
   ],
   "source": [
    "# get_pred_effect(X_test, 'MonthlyIncome', 7500, scaler, log_reg_ext)"
   ]
  },
  {
   "cell_type": "code",
   "execution_count": 52,
   "metadata": {},
   "outputs": [
    {
     "data": {
      "text/plain": [
       "(0.23090596410964,\n",
       " (0.2132351635973806, 0.24857676462189943),\n",
       " 0.2085704626818364,\n",
       " (0.19147618242809372, 0.2256647429355791))"
      ]
     },
     "execution_count": 52,
     "metadata": {},
     "output_type": "execute_result"
    }
   ],
   "source": [
    "# get_pred_effect(X_test, 'EnvironmentSatisfaction', 0.75, scaler, log_reg_ext, limit = True)"
   ]
  },
  {
   "cell_type": "code",
   "execution_count": 53,
   "metadata": {},
   "outputs": [
    {
     "data": {
      "text/plain": [
       "(0.23090596410964,\n",
       " (0.2132351635973806, 0.24857676462189943),\n",
       " 0.21975690326818584,\n",
       " (0.20232762876470428, 0.2371861777716674))"
      ]
     },
     "execution_count": 53,
     "metadata": {},
     "output_type": "execute_result"
    }
   ],
   "source": [
    "# get_pred_effect(X_test, 'TrainingTimesLastYear', 0.5, scaler, log_reg_ext, limit = True)"
   ]
  },
  {
   "cell_type": "code",
   "execution_count": 54,
   "metadata": {},
   "outputs": [
    {
     "data": {
      "text/plain": [
       "(0.23090596410964,\n",
       " (0.2132351635973806, 0.24857676462189943),\n",
       " 0.21009091201177904,\n",
       " (0.19298914842485546, 0.22719267559870263))"
      ]
     },
     "execution_count": 54,
     "metadata": {},
     "output_type": "execute_result"
    }
   ],
   "source": [
    "# get_pred_effect(X_test, 'JobSatisfaction', 0.5, scaler, log_reg_ext, limit = True)"
   ]
  },
  {
   "cell_type": "markdown",
   "metadata": {},
   "source": [
    "## what about a 3% increase in percent salary hike? up to 25% max()"
   ]
  },
  {
   "cell_type": "code",
   "execution_count": 55,
   "metadata": {},
   "outputs": [
    {
     "data": {
      "text/plain": [
       "(0.23090596410964,\n",
       " (0.2132351635973806, 0.24857676462189943),\n",
       " 0.164938659090727,\n",
       " (0.14903457445069654, 0.18084274373075745))"
      ]
     },
     "execution_count": 55,
     "metadata": {},
     "output_type": "execute_result"
    }
   ],
   "source": [
    "# get_pred_effect(X_test, 'PercentSalaryHike', 3, scaler, log_reg_ext, limit = True)"
   ]
  },
  {
   "cell_type": "markdown",
   "metadata": {},
   "source": [
    "## Cost Savings"
   ]
  },
  {
   "cell_type": "markdown",
   "metadata": {},
   "source": [
    "Increase in worklife balance is best, otherwise a 3 percent increase in salary hike.\n",
    "\n",
    "3965 Employees, Aquisition Cost per Employee 30000 (50 - 75% of a full-time annual salary)"
   ]
  },
  {
   "cell_type": "code",
   "execution_count": 252,
   "metadata": {},
   "outputs": [],
   "source": [
    "# def attrition_cost(df, pcnt_attrition):\n",
    "\n",
    "#     num_employees = len(df)\n",
    "#     aquisition_cost = 30000\n",
    "\n",
    "#     cost = pcnt_attrition * num_employees * aquisition_cost\n",
    "\n",
    "#     return np.round(cost,2)"
   ]
  },
  {
   "cell_type": "code",
   "execution_count": 253,
   "metadata": {},
   "outputs": [],
   "source": [
    "# mu_test, ci_test, mu_effect, ci_effect = get_pred_effect(X_test, 'WorkLifeBalance', 0.3, scaler, log_reg_ext, limit = True)\n",
    "\n",
    "# original_cost = attrition_cost(X_test, mu_test)\n",
    "# new_cost = attrition_cost(X_test, mu_effect)\n",
    "\n",
    "\n",
    "# savings = new_cost - original_cost\n",
    "# np.round(savings,2)\n"
   ]
  },
  {
   "cell_type": "code",
   "execution_count": 254,
   "metadata": {},
   "outputs": [],
   "source": [
    "# mu_test, ci_test, mu_effect, ci_effect = get_pred_effect(X_test, 'PercentSalaryHike', 3, scaler, log_reg_ext, limit = True)\n",
    "\n",
    "# original_cost = attrition_cost(X_test, mu_test)\n",
    "# new_cost = attrition_cost(X_test, mu_effect)\n",
    "\n",
    "\n",
    "# savings = new_cost - original_cost\n",
    "# np.round(savings,2)\n"
   ]
  },
  {
   "cell_type": "code",
   "execution_count": 59,
   "metadata": {},
   "outputs": [],
   "source": [
    "# X_train_std['Attrition'] = y_pred_train"
   ]
  },
  {
   "cell_type": "code",
   "execution_count": 60,
   "metadata": {},
   "outputs": [],
   "source": [
    "# features = ['WorkLifeBalance', 'PercentSalaryHike', 'JobSatisfaction', 'EnvironmentSatisfaction', 'TotalWorkingYears', 'Age', 'YearsWithCurrManager',\n",
    "# 'YearsAtCompany', 'TrainingTimesLastYear', 'MonthlyIncome', 'DistanceFromHome', 'Attrition']\n",
    "# corr = X_train_std[features].corr()"
   ]
  },
  {
   "cell_type": "code",
   "execution_count": 61,
   "metadata": {},
   "outputs": [],
   "source": [
    "# rel_with_attrition = corr['Attrition'] \\\n",
    "#     .sort_values().round(2).reset_index().rename(columns={'index': 'Variable', 'Attrition': 'Correlation'})"
   ]
  },
  {
   "cell_type": "code",
   "execution_count": 62,
   "metadata": {},
   "outputs": [],
   "source": [
    "# sns.barplot(rel_with_attrition, y = 'Variable', x = 'Correlation')\n",
    "# plt.ylabel(None)\n",
    "# plt.title('Relationship with Attrition')"
   ]
  },
  {
   "cell_type": "code",
   "execution_count": 255,
   "metadata": {},
   "outputs": [],
   "source": [
    "\n",
    "# log_reg_ext.summary()"
   ]
  },
  {
   "cell_type": "markdown",
   "metadata": {},
   "source": []
  },
  {
   "cell_type": "markdown",
   "metadata": {},
   "source": [
    "## Works...Clean this up later"
   ]
  },
  {
   "cell_type": "code",
   "execution_count": 268,
   "metadata": {},
   "outputs": [
    {
     "data": {
      "text/plain": [
       "Attrition\n",
       "0    1222\n",
       "1     207\n",
       "Name: count, dtype: int64"
      ]
     },
     "execution_count": 268,
     "metadata": {},
     "output_type": "execute_result"
    }
   ],
   "source": [
    "y_test.value_counts()"
   ]
  },
  {
   "cell_type": "code",
   "execution_count": 251,
   "metadata": {},
   "outputs": [
    {
     "data": {
      "text/plain": [
       "0.16939443535188217"
      ]
     },
     "execution_count": 251,
     "metadata": {},
     "output_type": "execute_result"
    }
   ],
   "source": [
    "y_test.value_counts()[1] / y_test.value_counts()[0]"
   ]
  },
  {
   "cell_type": "code",
   "execution_count": 273,
   "metadata": {},
   "outputs": [
    {
     "data": {
      "text/plain": [
       "0.23090596410964"
      ]
     },
     "execution_count": 273,
     "metadata": {},
     "output_type": "execute_result"
    }
   ],
   "source": [
    "y_pred_test.mean()"
   ]
  },
  {
   "cell_type": "code",
   "execution_count": 269,
   "metadata": {},
   "outputs": [
    {
     "data": {
      "text/plain": [
       "0.0    1141\n",
       "1.0     288\n",
       "Name: count, dtype: int64"
      ]
     },
     "execution_count": 269,
     "metadata": {},
     "output_type": "execute_result"
    }
   ],
   "source": [
    "y_pred_test.round().value_counts()"
   ]
  },
  {
   "cell_type": "code",
   "execution_count": 272,
   "metadata": {},
   "outputs": [
    {
     "data": {
      "text/plain": [
       "0.25241016652059595"
      ]
     },
     "execution_count": 272,
     "metadata": {},
     "output_type": "execute_result"
    }
   ],
   "source": [
    "y_pred_test.round().value_counts()[1] / y_pred_test.round().value_counts()[0]"
   ]
  },
  {
   "cell_type": "code",
   "execution_count": 285,
   "metadata": {},
   "outputs": [
    {
     "data": {
      "text/plain": [
       "0.23090596410964"
      ]
     },
     "execution_count": 285,
     "metadata": {},
     "output_type": "execute_result"
    }
   ],
   "source": [
    "# dir(log_reg_ext)\n",
    "\n",
    "# y_pred_proba_test = log_reg_ext.predict_proba(X_test_std)\n",
    "y_pred_test.mean()"
   ]
  },
  {
   "cell_type": "code",
   "execution_count": 187,
   "metadata": {},
   "outputs": [],
   "source": [
    "# Mean (original) values\n",
    "means = X_test_std.mean().values"
   ]
  },
  {
   "cell_type": "code",
   "execution_count": 192,
   "metadata": {},
   "outputs": [],
   "source": [
    "# Coefficients\n",
    "coefs = log_reg_ext.params.values"
   ]
  },
  {
   "cell_type": "code",
   "execution_count": 201,
   "metadata": {},
   "outputs": [
    {
     "data": {
      "text/plain": [
       "6.322855090280455"
      ]
     },
     "execution_count": 201,
     "metadata": {},
     "output_type": "execute_result"
    }
   ],
   "source": [
    "def sigmoid(x):\n",
    "    return 1 / (1 + np.exp(-x))\n",
    "\n",
    "def get_proba_from_log_odds(means, coefs):\n",
    "\n",
    "    # Model output\n",
    "    log_odds = (coefs*means).sum()\n",
    "\n",
    "    return sigmoid(log_odds) * 100\n",
    "\n",
    "get_proba_from_log_odds(means, coefs)"
   ]
  },
  {
   "cell_type": "code",
   "execution_count": 204,
   "metadata": {},
   "outputs": [],
   "source": [
    "# Add change in worklife + 0.3\n",
    "\n",
    "features = ['WorkLifeBalance', 'PercentSalaryHike', 'JobSatisfaction', 'EnvironmentSatisfaction', 'TotalWorkingYears', 'Age', 'YearsWithCurrManager',\n",
    "'YearsAtCompany', 'TrainingTimesLastYear', 'YearsSinceLastPromotion', 'MonthlyIncome', 'DistanceFromHome']\n",
    "new_values = test[features].mean()\n",
    "new_values['WorkLifeBalance'] = new_values['WorkLifeBalance'] + 0.3\n"
   ]
  },
  {
   "cell_type": "code",
   "execution_count": 208,
   "metadata": {},
   "outputs": [
    {
     "data": {
      "text/plain": [
       "WorkLifeBalance                3.329391\n",
       "PercentSalaryHike             14.404479\n",
       "JobSatisfaction                3.089573\n",
       "EnvironmentSatisfaction        2.988803\n",
       "TotalWorkingYears             11.302309\n",
       "Age                           36.907628\n",
       "YearsWithCurrManager           4.153954\n",
       "YearsAtCompany                 7.121064\n",
       "TrainingTimesLastYear          2.732680\n",
       "YearsSinceLastPromotion        2.191742\n",
       "MonthlyIncome              64970.188943\n",
       "DistanceFromHome               7.999300\n",
       "dtype: float64"
      ]
     },
     "execution_count": 208,
     "metadata": {},
     "output_type": "execute_result"
    }
   ],
   "source": [
    "new_values"
   ]
  },
  {
   "cell_type": "code",
   "execution_count": 209,
   "metadata": {},
   "outputs": [
    {
     "data": {
      "text/plain": [
       "WorkLifeBalance                3.029391\n",
       "PercentSalaryHike             14.404479\n",
       "JobSatisfaction                3.089573\n",
       "EnvironmentSatisfaction        2.988803\n",
       "TotalWorkingYears             11.302309\n",
       "Age                           36.907628\n",
       "YearsWithCurrManager           4.153954\n",
       "YearsAtCompany                 7.121064\n",
       "TrainingTimesLastYear          2.732680\n",
       "YearsSinceLastPromotion        2.191742\n",
       "MonthlyIncome              64970.188943\n",
       "DistanceFromHome               7.999300\n",
       "dtype: float64"
      ]
     },
     "execution_count": 209,
     "metadata": {},
     "output_type": "execute_result"
    }
   ],
   "source": [
    "test[features].mean()"
   ]
  },
  {
   "cell_type": "code",
   "execution_count": 212,
   "metadata": {},
   "outputs": [
    {
     "name": "stderr",
     "output_type": "stream",
     "text": [
      "/opt/homebrew/Caskroom/miniforge/base/envs/acme/lib/python3.11/site-packages/sklearn/base.py:464: UserWarning: X does not have valid feature names, but StandardScaler was fitted with feature names\n",
      "  warnings.warn(\n"
     ]
    }
   ],
   "source": [
    "# scale\n",
    "new_means = scaler.transform(new_values.values.reshape(1,-1)).values"
   ]
  },
  {
   "cell_type": "code",
   "execution_count": 219,
   "metadata": {},
   "outputs": [],
   "source": [
    "new_means = np.append(1,new_means)"
   ]
  },
  {
   "cell_type": "code",
   "execution_count": 277,
   "metadata": {},
   "outputs": [],
   "source": [
    "# New values\n",
    "def sigmoid(x):\n",
    "    return 1 / (1 + np.exp(-x))\n",
    "\n",
    "def get_proba_from_log_odds(means, coefs):\n",
    "\n",
    "    # Model output\n",
    "    # log_odds = (coefs*means).sum()\n",
    "    log_odds = np.dot(coefs,means)\n",
    "\n",
    "\n",
    "    return sigmoid(log_odds)\n",
    "\n",
    "new_prob = get_proba_from_log_odds(new_means, coefs)"
   ]
  },
  {
   "cell_type": "code",
   "execution_count": 278,
   "metadata": {},
   "outputs": [],
   "source": [
    "# orignal value\n",
    "# def sigmoid(x):\n",
    "#     return 1 / (1 + np.exp(-x))\n",
    "\n",
    "# def get_proba_from_log_odds(means, coefs):\n",
    "\n",
    "#     # Model output\n",
    "#     log_odds = (coefs*means).sum()\n",
    "\n",
    "#     return sigmoid(log_odds)\n",
    "\n",
    "old_prob = get_proba_from_log_odds(means, coefs)"
   ]
  },
  {
   "cell_type": "code",
   "execution_count": 279,
   "metadata": {},
   "outputs": [
    {
     "data": {
      "text/plain": [
       "(0.06322855090280455, 0.033784762431754746)"
      ]
     },
     "execution_count": 279,
     "metadata": {},
     "output_type": "execute_result"
    }
   ],
   "source": [
    "(old_prob, new_prob)"
   ]
  },
  {
   "cell_type": "code",
   "execution_count": 237,
   "metadata": {},
   "outputs": [
    {
     "data": {
      "text/plain": [
       "0.02944378847104981"
      ]
     },
     "execution_count": 237,
     "metadata": {},
     "output_type": "execute_result"
    }
   ],
   "source": [
    "# Diff \n",
    "old_prob - new_prob"
   ]
  },
  {
   "cell_type": "markdown",
   "metadata": {},
   "source": [
    "A 3% reduction in turnover...savings?"
   ]
  },
  {
   "cell_type": "code",
   "execution_count": 239,
   "metadata": {},
   "outputs": [
    {
     "name": "stdout",
     "output_type": "stream",
     "text": [
      "90.3535992401077 48.27842551497752 42.07517372513018 1262255.2117539053\n"
     ]
    }
   ],
   "source": [
    "num_employees_test_case = len(test)\n",
    "\n",
    "Old_turnover = old_prob*num_employees_test_case\n",
    "\n",
    "New_turnover = new_prob*num_employees_test_case\n",
    "\n",
    "\n",
    "employees_retained = Old_turnover - New_turnover\n",
    "Aquisition_cost_per_employee = 30000\n",
    "\n",
    "Savings = employees_retained * Aquisition_cost_per_employee\n",
    "\n",
    "print(Old_turnover, New_turnover, employees_retained, Savings)"
   ]
  },
  {
   "cell_type": "code",
   "execution_count": 234,
   "metadata": {},
   "outputs": [],
   "source": [
    "# sns.displot(data = test, x = 'WorkLifeBalance')"
   ]
  },
  {
   "cell_type": "code",
   "execution_count": null,
   "metadata": {},
   "outputs": [],
   "source": []
  },
  {
   "cell_type": "markdown",
   "metadata": {},
   "source": [
    "## Tests"
   ]
  },
  {
   "cell_type": "code",
   "execution_count": 357,
   "metadata": {},
   "outputs": [
    {
     "name": "stdout",
     "output_type": "stream",
     "text": [
      "Optimization terminated successfully.\n",
      "         Current function value: 0.207585\n",
      "         Iterations 8\n",
      "                           Logit Regression Results                           \n",
      "==============================================================================\n",
      "Dep. Variable:              Attrition   No. Observations:                 4850\n",
      "Model:                          Logit   Df Residuals:                     4837\n",
      "Method:                           MLE   Df Model:                           12\n",
      "Date:                Sun, 20 Aug 2023   Pseudo R-squ.:                  0.7005\n",
      "Time:                        12:21:33   Log-Likelihood:                -1006.8\n",
      "converged:                       True   LL-Null:                       -3361.8\n",
      "Covariance Type:            nonrobust   LLR p-value:                     0.000\n",
      "===========================================================================================\n",
      "                              coef    std err          z      P>|z|      [0.025      0.975]\n",
      "-------------------------------------------------------------------------------------------\n",
      "const                      -0.0527      0.058     -0.908      0.364      -0.166       0.061\n",
      "WorkLifeBalance            -2.1666      0.084    -25.654      0.000      -2.332      -2.001\n",
      "PercentSalaryHike          -1.9323      0.087    -22.166      0.000      -2.103      -1.761\n",
      "JobSatisfaction            -0.9818      0.063    -15.509      0.000      -1.106      -0.858\n",
      "EnvironmentSatisfaction    -0.8099      0.061    -13.193      0.000      -0.930      -0.690\n",
      "TotalWorkingYears           0.0546      0.101      0.539      0.590      -0.144       0.253\n",
      "Age                        -0.5017      0.083     -6.034      0.000      -0.665      -0.339\n",
      "YearsWithCurrManager       -0.6930      0.094     -7.359      0.000      -0.878      -0.508\n",
      "YearsAtCompany             -0.0829      0.106     -0.779      0.436      -0.292       0.126\n",
      "TrainingTimesLastYear      -0.4532      0.062     -7.302      0.000      -0.575      -0.332\n",
      "YearsSinceLastPromotion     0.3588      0.076      4.736      0.000       0.210       0.507\n",
      "MonthlyIncome              -0.1983      0.059     -3.387      0.001      -0.313      -0.084\n",
      "DistanceFromHome            0.6635      0.064     10.429      0.000       0.539       0.788\n",
      "===========================================================================================\n"
     ]
    }
   ],
   "source": [
    "features = ['const', 'WorkLifeBalance', 'PercentSalaryHike', 'JobSatisfaction', 'EnvironmentSatisfaction', 'TotalWorkingYears', 'Age', 'YearsWithCurrManager',\n",
    "    'YearsAtCompany', 'TrainingTimesLastYear', 'YearsSinceLastPromotion', 'MonthlyIncome', 'DistanceFromHome']\n",
    "\n",
    "log_reg_ext_no_const = sm.Logit(y_train, X_train_std[features]).fit()\n",
    "print(log_reg_ext_no_const.summary())"
   ]
  },
  {
   "cell_type": "code",
   "execution_count": 363,
   "metadata": {},
   "outputs": [
    {
     "data": {
      "text/html": [
       "<div>\n",
       "<style scoped>\n",
       "    .dataframe tbody tr th:only-of-type {\n",
       "        vertical-align: middle;\n",
       "    }\n",
       "\n",
       "    .dataframe tbody tr th {\n",
       "        vertical-align: top;\n",
       "    }\n",
       "\n",
       "    .dataframe thead th {\n",
       "        text-align: right;\n",
       "    }\n",
       "</style>\n",
       "<table border=\"1\" class=\"dataframe\">\n",
       "  <thead>\n",
       "    <tr style=\"text-align: right;\">\n",
       "      <th></th>\n",
       "      <th>const</th>\n",
       "      <th>WorkLifeBalance</th>\n",
       "      <th>PercentSalaryHike</th>\n",
       "      <th>JobSatisfaction</th>\n",
       "      <th>EnvironmentSatisfaction</th>\n",
       "      <th>TotalWorkingYears</th>\n",
       "      <th>Age</th>\n",
       "      <th>YearsWithCurrManager</th>\n",
       "      <th>YearsAtCompany</th>\n",
       "      <th>TrainingTimesLastYear</th>\n",
       "      <th>YearsSinceLastPromotion</th>\n",
       "      <th>MonthlyIncome</th>\n",
       "      <th>DistanceFromHome</th>\n",
       "    </tr>\n",
       "  </thead>\n",
       "  <tbody>\n",
       "    <tr>\n",
       "      <th>0</th>\n",
       "      <td>1.0</td>\n",
       "      <td>1.460027</td>\n",
       "      <td>0.305281</td>\n",
       "      <td>-0.852319</td>\n",
       "      <td>1.277858</td>\n",
       "      <td>-0.287691</td>\n",
       "      <td>0.140132</td>\n",
       "      <td>-1.052884</td>\n",
       "      <td>-0.884216</td>\n",
       "      <td>0.269977</td>\n",
       "      <td>-0.673786</td>\n",
       "      <td>-0.938987</td>\n",
       "      <td>0.616167</td>\n",
       "    </tr>\n",
       "    <tr>\n",
       "      <th>1</th>\n",
       "      <td>1.0</td>\n",
       "      <td>0.448161</td>\n",
       "      <td>1.838005</td>\n",
       "      <td>0.193042</td>\n",
       "      <td>1.277858</td>\n",
       "      <td>-0.015992</td>\n",
       "      <td>-0.521103</td>\n",
       "      <td>1.349180</td>\n",
       "      <td>0.516608</td>\n",
       "      <td>-0.569374</td>\n",
       "      <td>1.678160</td>\n",
       "      <td>-0.943399</td>\n",
       "      <td>-1.032647</td>\n",
       "    </tr>\n",
       "    <tr>\n",
       "      <th>2</th>\n",
       "      <td>1.0</td>\n",
       "      <td>0.448161</td>\n",
       "      <td>2.494887</td>\n",
       "      <td>0.193042</td>\n",
       "      <td>1.277858</td>\n",
       "      <td>-0.015992</td>\n",
       "      <td>-0.741514</td>\n",
       "      <td>1.349180</td>\n",
       "      <td>0.691711</td>\n",
       "      <td>-1.408724</td>\n",
       "      <td>-0.673786</td>\n",
       "      <td>-0.905014</td>\n",
       "      <td>1.503991</td>\n",
       "    </tr>\n",
       "    <tr>\n",
       "      <th>3</th>\n",
       "      <td>1.0</td>\n",
       "      <td>0.448161</td>\n",
       "      <td>2.275926</td>\n",
       "      <td>-0.852319</td>\n",
       "      <td>0.327164</td>\n",
       "      <td>2.429305</td>\n",
       "      <td>1.572806</td>\n",
       "      <td>0.748664</td>\n",
       "      <td>0.691711</td>\n",
       "      <td>-0.569374</td>\n",
       "      <td>-0.337793</td>\n",
       "      <td>0.738260</td>\n",
       "      <td>-0.398487</td>\n",
       "    </tr>\n",
       "    <tr>\n",
       "      <th>4</th>\n",
       "      <td>1.0</td>\n",
       "      <td>-0.563705</td>\n",
       "      <td>0.086320</td>\n",
       "      <td>-0.852319</td>\n",
       "      <td>0.327164</td>\n",
       "      <td>-0.287691</td>\n",
       "      <td>-1.072131</td>\n",
       "      <td>1.048922</td>\n",
       "      <td>0.341505</td>\n",
       "      <td>1.948677</td>\n",
       "      <td>1.006176</td>\n",
       "      <td>-0.318430</td>\n",
       "      <td>0.616167</td>\n",
       "    </tr>\n",
       "    <tr>\n",
       "      <th>...</th>\n",
       "      <td>...</td>\n",
       "      <td>...</td>\n",
       "      <td>...</td>\n",
       "      <td>...</td>\n",
       "      <td>...</td>\n",
       "      <td>...</td>\n",
       "      <td>...</td>\n",
       "      <td>...</td>\n",
       "      <td>...</td>\n",
       "      <td>...</td>\n",
       "      <td>...</td>\n",
       "      <td>...</td>\n",
       "      <td>...</td>\n",
       "    </tr>\n",
       "    <tr>\n",
       "      <th>1424</th>\n",
       "      <td>1.0</td>\n",
       "      <td>1.460027</td>\n",
       "      <td>0.524241</td>\n",
       "      <td>1.238402</td>\n",
       "      <td>1.277858</td>\n",
       "      <td>-0.695240</td>\n",
       "      <td>-0.080280</td>\n",
       "      <td>-0.152110</td>\n",
       "      <td>-0.183804</td>\n",
       "      <td>-0.569374</td>\n",
       "      <td>-0.673786</td>\n",
       "      <td>0.707155</td>\n",
       "      <td>0.489336</td>\n",
       "    </tr>\n",
       "    <tr>\n",
       "      <th>1425</th>\n",
       "      <td>1.0</td>\n",
       "      <td>1.460027</td>\n",
       "      <td>1.181123</td>\n",
       "      <td>0.193042</td>\n",
       "      <td>-1.574223</td>\n",
       "      <td>-0.695240</td>\n",
       "      <td>-0.961926</td>\n",
       "      <td>-1.052884</td>\n",
       "      <td>-0.884216</td>\n",
       "      <td>-0.569374</td>\n",
       "      <td>-0.673786</td>\n",
       "      <td>-0.324166</td>\n",
       "      <td>-0.905815</td>\n",
       "    </tr>\n",
       "    <tr>\n",
       "      <th>1426</th>\n",
       "      <td>1.0</td>\n",
       "      <td>0.448161</td>\n",
       "      <td>1.400084</td>\n",
       "      <td>0.193042</td>\n",
       "      <td>1.277858</td>\n",
       "      <td>1.342506</td>\n",
       "      <td>1.572806</td>\n",
       "      <td>1.349180</td>\n",
       "      <td>2.442742</td>\n",
       "      <td>-0.569374</td>\n",
       "      <td>0.334191</td>\n",
       "      <td>-0.186951</td>\n",
       "      <td>-0.652151</td>\n",
       "    </tr>\n",
       "    <tr>\n",
       "      <th>1427</th>\n",
       "      <td>1.0</td>\n",
       "      <td>0.448161</td>\n",
       "      <td>0.524241</td>\n",
       "      <td>1.238402</td>\n",
       "      <td>-0.623530</td>\n",
       "      <td>2.565154</td>\n",
       "      <td>1.683012</td>\n",
       "      <td>4.051503</td>\n",
       "      <td>2.442742</td>\n",
       "      <td>-2.248074</td>\n",
       "      <td>0.670183</td>\n",
       "      <td>0.687962</td>\n",
       "      <td>0.489336</td>\n",
       "    </tr>\n",
       "    <tr>\n",
       "      <th>1428</th>\n",
       "      <td>1.0</td>\n",
       "      <td>-0.563705</td>\n",
       "      <td>0.086320</td>\n",
       "      <td>1.238402</td>\n",
       "      <td>-0.623530</td>\n",
       "      <td>0.934957</td>\n",
       "      <td>2.123835</td>\n",
       "      <td>1.048922</td>\n",
       "      <td>0.341505</td>\n",
       "      <td>-0.569374</td>\n",
       "      <td>1.342168</td>\n",
       "      <td>-0.779050</td>\n",
       "      <td>1.503991</td>\n",
       "    </tr>\n",
       "  </tbody>\n",
       "</table>\n",
       "<p>1429 rows × 13 columns</p>\n",
       "</div>"
      ],
      "text/plain": [
       "      const  WorkLifeBalance  PercentSalaryHike  JobSatisfaction  \\\n",
       "0       1.0         1.460027           0.305281        -0.852319   \n",
       "1       1.0         0.448161           1.838005         0.193042   \n",
       "2       1.0         0.448161           2.494887         0.193042   \n",
       "3       1.0         0.448161           2.275926        -0.852319   \n",
       "4       1.0        -0.563705           0.086320        -0.852319   \n",
       "...     ...              ...                ...              ...   \n",
       "1424    1.0         1.460027           0.524241         1.238402   \n",
       "1425    1.0         1.460027           1.181123         0.193042   \n",
       "1426    1.0         0.448161           1.400084         0.193042   \n",
       "1427    1.0         0.448161           0.524241         1.238402   \n",
       "1428    1.0        -0.563705           0.086320         1.238402   \n",
       "\n",
       "      EnvironmentSatisfaction  TotalWorkingYears       Age  \\\n",
       "0                    1.277858          -0.287691  0.140132   \n",
       "1                    1.277858          -0.015992 -0.521103   \n",
       "2                    1.277858          -0.015992 -0.741514   \n",
       "3                    0.327164           2.429305  1.572806   \n",
       "4                    0.327164          -0.287691 -1.072131   \n",
       "...                       ...                ...       ...   \n",
       "1424                 1.277858          -0.695240 -0.080280   \n",
       "1425                -1.574223          -0.695240 -0.961926   \n",
       "1426                 1.277858           1.342506  1.572806   \n",
       "1427                -0.623530           2.565154  1.683012   \n",
       "1428                -0.623530           0.934957  2.123835   \n",
       "\n",
       "      YearsWithCurrManager  YearsAtCompany  TrainingTimesLastYear  \\\n",
       "0                -1.052884       -0.884216               0.269977   \n",
       "1                 1.349180        0.516608              -0.569374   \n",
       "2                 1.349180        0.691711              -1.408724   \n",
       "3                 0.748664        0.691711              -0.569374   \n",
       "4                 1.048922        0.341505               1.948677   \n",
       "...                    ...             ...                    ...   \n",
       "1424             -0.152110       -0.183804              -0.569374   \n",
       "1425             -1.052884       -0.884216              -0.569374   \n",
       "1426              1.349180        2.442742              -0.569374   \n",
       "1427              4.051503        2.442742              -2.248074   \n",
       "1428              1.048922        0.341505              -0.569374   \n",
       "\n",
       "      YearsSinceLastPromotion  MonthlyIncome  DistanceFromHome  \n",
       "0                   -0.673786      -0.938987          0.616167  \n",
       "1                    1.678160      -0.943399         -1.032647  \n",
       "2                   -0.673786      -0.905014          1.503991  \n",
       "3                   -0.337793       0.738260         -0.398487  \n",
       "4                    1.006176      -0.318430          0.616167  \n",
       "...                       ...            ...               ...  \n",
       "1424                -0.673786       0.707155          0.489336  \n",
       "1425                -0.673786      -0.324166         -0.905815  \n",
       "1426                 0.334191      -0.186951         -0.652151  \n",
       "1427                 0.670183       0.687962          0.489336  \n",
       "1428                 1.342168      -0.779050          1.503991  \n",
       "\n",
       "[1429 rows x 13 columns]"
      ]
     },
     "execution_count": 363,
     "metadata": {},
     "output_type": "execute_result"
    }
   ],
   "source": [
    "X_test = test.drop(columns = 'Attrition')\n",
    "y_test = test['Attrition']\n",
    "\n",
    "features = ['WorkLifeBalance', 'PercentSalaryHike', 'JobSatisfaction', 'EnvironmentSatisfaction', 'TotalWorkingYears', 'Age', 'YearsWithCurrManager',\n",
    "    'YearsAtCompany', 'TrainingTimesLastYear', 'YearsSinceLastPromotion', 'MonthlyIncome', 'DistanceFromHome']\n",
    "\n",
    "X_test_std = scaler.transform(X_test[features])\n",
    "X_test_std  = sm.add_constant(X_test_std)\n",
    "\n",
    "X_test_std\n"
   ]
  },
  {
   "cell_type": "code",
   "execution_count": 372,
   "metadata": {},
   "outputs": [
    {
     "data": {
      "text/plain": [
       "0.5549125451216973"
      ]
     },
     "execution_count": 372,
     "metadata": {},
     "output_type": "execute_result"
    }
   ],
   "source": [
    "y_pred_test = log_reg_ext_no_const.predict(X_test_std)\n",
    "sigmoid(y_pred_test).mean()\n"
   ]
  },
  {
   "cell_type": "code",
   "execution_count": 347,
   "metadata": {},
   "outputs": [],
   "source": [
    "def get_proba_from_log_odds_with_intercept(means, coefs, intercept):\n",
    "    log_odds = np.dot(coefs, means) + intercept\n",
    "    return sigmoid(log_odds)\n",
    "\n",
    "intercept = log_reg_ext.params['const']"
   ]
  },
  {
   "cell_type": "code",
   "execution_count": 368,
   "metadata": {},
   "outputs": [
    {
     "data": {
      "text/plain": [
       "const                      1.000000\n",
       "WorkLifeBalance            0.477901\n",
       "PercentSalaryHike          0.393846\n",
       "JobSatisfaction            0.286678\n",
       "EnvironmentSatisfaction    0.316520\n",
       "TotalWorkingYears          0.160927\n",
       "Age                        0.129952\n",
       "YearsWithCurrManager       0.194374\n",
       "YearsAtCompany             0.187601\n",
       "TrainingTimesLastYear      0.045602\n",
       "YearsSinceLastPromotion    0.062623\n",
       "MonthlyIncome              0.038951\n",
       "DistanceFromHome          -0.144912\n",
       "dtype: float64"
      ]
     },
     "execution_count": 368,
     "metadata": {},
     "output_type": "execute_result"
    }
   ],
   "source": [
    "np.mean(X_test_std, axis =0)"
   ]
  },
  {
   "cell_type": "code",
   "execution_count": 369,
   "metadata": {},
   "outputs": [
    {
     "data": {
      "text/plain": [
       "-2.695683380833"
      ]
     },
     "execution_count": 369,
     "metadata": {},
     "output_type": "execute_result"
    }
   ],
   "source": [
    "# Mean values\n",
    "means = X_test_std.mean().values\n",
    "# Coefficients\n",
    "coefs = log_reg_ext.params.values\n",
    "linear_combination = np.dot(coefs, means)\n",
    "linear_combination\n",
    "# old_prob = get_proba_from_log_odds_with_intercept(means[1:], coefs[1:], intercept)\n",
    "# old_prob"
   ]
  },
  {
   "cell_type": "code",
   "execution_count": 370,
   "metadata": {},
   "outputs": [
    {
     "data": {
      "text/plain": [
       "0.06322855090280455"
      ]
     },
     "execution_count": 370,
     "metadata": {},
     "output_type": "execute_result"
    }
   ],
   "source": [
    "sigmoid(linear_combination)"
   ]
  },
  {
   "cell_type": "code",
   "execution_count": 351,
   "metadata": {},
   "outputs": [
    {
     "data": {
      "text/plain": [
       "0.033784762431754746"
      ]
     },
     "execution_count": 351,
     "metadata": {},
     "output_type": "execute_result"
    }
   ],
   "source": [
    "new_prob = get_proba_from_log_odds_with_intercept(new_means[1:], coefs[1:], intercept)\n",
    "new_prob"
   ]
  },
  {
   "cell_type": "code",
   "execution_count": null,
   "metadata": {},
   "outputs": [],
   "source": []
  }
 ],
 "metadata": {
  "kernelspec": {
   "display_name": "acme",
   "language": "python",
   "name": "python3"
  },
  "language_info": {
   "codemirror_mode": {
    "name": "ipython",
    "version": 3
   },
   "file_extension": ".py",
   "mimetype": "text/x-python",
   "name": "python",
   "nbconvert_exporter": "python",
   "pygments_lexer": "ipython3",
   "version": "3.11.4"
  },
  "orig_nbformat": 4
 },
 "nbformat": 4,
 "nbformat_minor": 2
}
